{
 "cells": [
  {
   "cell_type": "markdown",
   "metadata": {},
   "source": [
    "케라스 데이터셋 로이터 데이터의 일반적 딥러닝테스트"
   ]
  },
  {
   "cell_type": "code",
   "execution_count": 1,
   "metadata": {},
   "outputs": [
    {
     "data": {
      "text/plain": [
       "(8982, 2246)"
      ]
     },
     "execution_count": 1,
     "metadata": {},
     "output_type": "execute_result"
    }
   ],
   "source": [
    "from keras.datasets import reuters\n",
    "(train_data, train_labels), (test_data, test_labels)=reuters.load_data(num_words=10000)\n",
    "\n",
    "len(train_data), len(test_data)\n",
    "\n",
    "#train_data[5]"
   ]
  },
  {
   "cell_type": "code",
   "execution_count": 2,
   "metadata": {},
   "outputs": [
    {
     "name": "stdout",
     "output_type": "stream",
     "text": [
      "? the u s agriculture department estimated canada's 1986 87 wheat crop at 31 85 mln tonnes vs 31 85 mln tonnes last month it estimated 1985 86 output at 24 25 mln tonnes vs 24 25 mln last month canadian 1986 87 coarse grain production is projected at 27 62 mln tonnes vs 27 62 mln tonnes last month production in 1985 86 is estimated at 24 95 mln tonnes vs 24 95 mln last month canadian wheat exports in 1986 87 are forecast at 19 00 mln tonnes vs 18 00 mln tonnes last month exports in 1985 86 are estimated at 17 71 mln tonnes vs 17 72 mln last month reuter 3\n"
     ]
    }
   ],
   "source": [
    "word_index=reuters.get_word_index()\n",
    "reverse_word_index=dict([(value, key) for (key, value) in word_index.items()])\n",
    "decoded_newswire=' '.join([reverse_word_index.get(i-3, '?') for i in train_data[5]])\n",
    "print(decoded_newswire)"
   ]
  },
  {
   "cell_type": "code",
   "execution_count": 3,
   "metadata": {},
   "outputs": [],
   "source": [
    "import numpy as np\n",
    "\n",
    "def vectorize_sequences(sequences, dimension=10000):\n",
    "\tresults=np.zeros((len(sequences), dimension))\n",
    "\tfor i, sequence in enumerate(sequences):\n",
    "\t\tresults[i, sequence]=1.\n",
    "\treturn results\n",
    "\n",
    "x_train = vectorize_sequences(train_data)\n",
    "x_test = vectorize_sequences(test_data)\n",
    "\n",
    "def to_one_hot(labels, dimension=46):\n",
    "\tresults=np.zeros((len(labels), dimension))\n",
    "\tfor i, label in enumerate(labels):\n",
    "\t\tresults[i, label] =1.\n",
    "\treturn results\n",
    "\n",
    "one_hot_train_labels=to_one_hot(train_labels)\n",
    "one_hot_test_labels=to_one_hot(test_labels)\n",
    "\n",
    "from keras.utils.np_utils import to_categorical\n",
    "\n",
    "one_hot_train_labels=to_categorical(train_labels)\n",
    "one_hot_test_labels=to_categorical(test_labels)"
   ]
  },
  {
   "cell_type": "code",
   "execution_count": 4,
   "metadata": {},
   "outputs": [
    {
     "name": "stdout",
     "output_type": "stream",
     "text": [
      "Epoch 1/20\n",
      "16/16 [==============================] - 1s 42ms/step - loss: 3.5115 - accuracy: 0.2078 - val_loss: 3.1913 - val_accuracy: 0.3080\n",
      "Epoch 2/20\n",
      "16/16 [==============================] - 0s 25ms/step - loss: 2.9585 - accuracy: 0.3736 - val_loss: 2.7104 - val_accuracy: 0.4760\n",
      "Epoch 3/20\n",
      "16/16 [==============================] - 0s 26ms/step - loss: 2.5308 - accuracy: 0.4910 - val_loss: 2.3718 - val_accuracy: 0.5140\n",
      "Epoch 4/20\n",
      "16/16 [==============================] - 0s 25ms/step - loss: 2.2157 - accuracy: 0.5291 - val_loss: 2.1103 - val_accuracy: 0.5340\n",
      "Epoch 5/20\n",
      "16/16 [==============================] - 0s 25ms/step - loss: 1.9634 - accuracy: 0.5427 - val_loss: 1.9199 - val_accuracy: 0.5440\n",
      "Epoch 6/20\n",
      "16/16 [==============================] - 0s 26ms/step - loss: 1.7821 - accuracy: 0.5477 - val_loss: 1.8032 - val_accuracy: 0.5470\n",
      "Epoch 7/20\n",
      "16/16 [==============================] - 0s 25ms/step - loss: 1.6557 - accuracy: 0.5526 - val_loss: 1.7239 - val_accuracy: 0.5460\n",
      "Epoch 8/20\n",
      "16/16 [==============================] - 0s 26ms/step - loss: 1.5577 - accuracy: 0.5545 - val_loss: 1.6631 - val_accuracy: 0.5490\n",
      "Epoch 9/20\n",
      "16/16 [==============================] - 0s 25ms/step - loss: 1.4743 - accuracy: 0.5558 - val_loss: 1.6151 - val_accuracy: 0.5480\n",
      "Epoch 10/20\n",
      "16/16 [==============================] - 0s 26ms/step - loss: 1.3957 - accuracy: 0.5596 - val_loss: 1.5733 - val_accuracy: 0.5630\n",
      "Epoch 11/20\n",
      "16/16 [==============================] - 0s 27ms/step - loss: 1.3208 - accuracy: 0.6092 - val_loss: 1.5355 - val_accuracy: 0.5970\n",
      "Epoch 12/20\n",
      "16/16 [==============================] - 0s 28ms/step - loss: 1.2515 - accuracy: 0.6373 - val_loss: 1.5014 - val_accuracy: 0.6080\n",
      "Epoch 13/20\n",
      "16/16 [==============================] - 0s 26ms/step - loss: 1.1879 - accuracy: 0.6458 - val_loss: 1.4730 - val_accuracy: 0.6140\n",
      "Epoch 14/20\n",
      "16/16 [==============================] - 0s 25ms/step - loss: 1.1311 - accuracy: 0.6535 - val_loss: 1.4514 - val_accuracy: 0.6180\n",
      "Epoch 15/20\n",
      "16/16 [==============================] - 0s 27ms/step - loss: 1.0779 - accuracy: 0.6662 - val_loss: 1.4328 - val_accuracy: 0.6340\n",
      "Epoch 16/20\n",
      "16/16 [==============================] - 0s 25ms/step - loss: 1.0279 - accuracy: 0.6981 - val_loss: 1.4147 - val_accuracy: 0.6660\n",
      "Epoch 17/20\n",
      "16/16 [==============================] - 0s 24ms/step - loss: 0.9819 - accuracy: 0.7365 - val_loss: 1.4061 - val_accuracy: 0.6700\n",
      "Epoch 18/20\n",
      "16/16 [==============================] - 0s 27ms/step - loss: 0.9419 - accuracy: 0.7415 - val_loss: 1.3973 - val_accuracy: 0.6730\n",
      "Epoch 19/20\n",
      "16/16 [==============================] - 0s 25ms/step - loss: 0.9068 - accuracy: 0.7452 - val_loss: 1.3930 - val_accuracy: 0.6810\n",
      "Epoch 20/20\n",
      "16/16 [==============================] - 0s 25ms/step - loss: 0.8768 - accuracy: 0.7502 - val_loss: 1.3964 - val_accuracy: 0.6770\n"
     ]
    }
   ],
   "source": [
    "from keras import models\n",
    "from keras import layers\n",
    "\n",
    "model=models.Sequential()\n",
    "model.add(layers.Dense(64, activation='relu', input_shape=(10000,)))\n",
    "model.add(layers.Dense(4, activation='relu'))\n",
    "model.add(layers.Dense(46, activation='softmax'))\n",
    "\n",
    "model.compile(optimizer='adam', loss='categorical_crossentropy', metrics=['accuracy'])\n",
    "\n",
    "x_val=x_train[:1000]\n",
    "partial_x_train=x_train[1000:]\n",
    "\n",
    "y_val=one_hot_train_labels[:1000]\n",
    "partial_y_train=one_hot_train_labels[1000:]\n",
    "\n",
    "history=model.fit(partial_x_train, partial_y_train, epochs=20, batch_size=512, validation_data=(x_val, y_val))"
   ]
  },
  {
   "cell_type": "code",
   "execution_count": 5,
   "metadata": {},
   "outputs": [
    {
     "name": "stderr",
     "output_type": "stream",
     "text": [
      "C:\\Users\\PC\\AppData\\Local\\Temp\\ipykernel_3060\\2841500642.py:9: UserWarning: color is redundantly defined by the 'color' keyword argument and the fmt string \"bo\" (-> color='b'). The keyword argument will take precedence.\n",
      "  plt.plot(epochs, loss, 'bo', label='Training loss', color='red')\n",
      "C:\\Users\\PC\\AppData\\Local\\Temp\\ipykernel_3060\\2841500642.py:10: UserWarning: color is redundantly defined by the 'color' keyword argument and the fmt string \"b\" (-> color=(0.0, 0.0, 1.0, 1)). The keyword argument will take precedence.\n",
      "  plt.plot(epochs, val_loss, 'b', label='Validation loss', color='blue')\n"
     ]
    },
    {
     "data": {
      "image/png": "[encoded data removed]",
      "text/plain": [
       "<Figure size 432x288 with 1 Axes>"
      ]
     },
     "metadata": {
      "needs_background": "light"
     },
     "output_type": "display_data"
    },
    {
     "name": "stderr",
     "output_type": "stream",
     "text": [
      "C:\\Users\\PC\\AppData\\Local\\Temp\\ipykernel_3060\\2841500642.py:23: UserWarning: color is redundantly defined by the 'color' keyword argument and the fmt string \"bo\" (-> color='b'). The keyword argument will take precedence.\n",
      "  plt.plot(epochs, acc, 'bo', label='Training acc', color='grey')\n",
      "C:\\Users\\PC\\AppData\\Local\\Temp\\ipykernel_3060\\2841500642.py:24: UserWarning: color is redundantly defined by the 'color' keyword argument and the fmt string \"b\" (-> color=(0.0, 0.0, 1.0, 1)). The keyword argument will take precedence.\n",
      "  plt.plot(epochs, val_acc, 'b', label='Validation acc', color='purple')\n"
     ]
    },
    {
     "data": {
      "image/png": "[encoded data removed]",
      "text/plain": [
       "<Figure size 432x288 with 1 Axes>"
      ]
     },
     "metadata": {
      "needs_background": "light"
     },
     "output_type": "display_data"
    }
   ],
   "source": [
    "import matplotlib.pyplot as plt\n",
    "\n",
    "\n",
    "loss=history.history['loss']\n",
    "val_loss=history.history['val_loss']\n",
    "\n",
    "epochs=range(1, len(loss)+1)\n",
    "\n",
    "plt.plot(epochs, loss, 'bo', label='Training loss', color='red')\n",
    "plt.plot(epochs, val_loss, 'b', label='Validation loss', color='blue')\n",
    "plt.title('Training and validation loss')\n",
    "plt.xlabel('Epochs')\n",
    "plt.ylabel('Loss')\n",
    "plt.grid()\n",
    "plt.legend()\n",
    "plt.show()\n",
    "\n",
    "plt.clf()\n",
    "\n",
    "acc=history.history['accuracy']\n",
    "val_acc=history.history['val_accuracy']\n",
    "\n",
    "plt.plot(epochs, acc, 'bo', label='Training acc', color='grey')\n",
    "plt.plot(epochs, val_acc, 'b', label='Validation acc', color='purple')\n",
    "plt.title('Training and validation accuracy')\n",
    "plt.xlabel('Epochs')\n",
    "plt.ylabel('Accuracy')\n",
    "plt.grid()\n",
    "plt.legend()\n",
    "plt.show()"
   ]
  },
  {
   "cell_type": "code",
   "execution_count": 6,
   "metadata": {},
   "outputs": [
    {
     "name": "stdout",
     "output_type": "stream",
     "text": [
      "Epoch 1/8\n",
      "16/16 [==============================] - 1s 44ms/step - loss: 2.7740 - accuracy: 0.5307 - val_loss: 1.8371 - val_accuracy: 0.6400\n",
      "Epoch 2/8\n",
      "16/16 [==============================] - 0s 27ms/step - loss: 1.4552 - accuracy: 0.7040 - val_loss: 1.3355 - val_accuracy: 0.7080\n",
      "Epoch 3/8\n",
      "16/16 [==============================] - 0s 29ms/step - loss: 1.0634 - accuracy: 0.7771 - val_loss: 1.1680 - val_accuracy: 0.7390\n",
      "Epoch 4/8\n",
      "16/16 [==============================] - 0s 27ms/step - loss: 0.8358 - accuracy: 0.8240 - val_loss: 1.0737 - val_accuracy: 0.7710\n",
      "Epoch 5/8\n",
      "16/16 [==============================] - 0s 28ms/step - loss: 0.6697 - accuracy: 0.8594 - val_loss: 0.9783 - val_accuracy: 0.7880\n",
      "Epoch 6/8\n",
      "16/16 [==============================] - 0s 27ms/step - loss: 0.5277 - accuracy: 0.8899 - val_loss: 0.9791 - val_accuracy: 0.7860\n",
      "Epoch 7/8\n",
      "16/16 [==============================] - 0s 27ms/step - loss: 0.4302 - accuracy: 0.9104 - val_loss: 0.9354 - val_accuracy: 0.8090\n",
      "Epoch 8/8\n",
      "16/16 [==============================] - 0s 31ms/step - loss: 0.3476 - accuracy: 0.9272 - val_loss: 0.9191 - val_accuracy: 0.8180\n",
      "71/71 [==============================] - 0s 3ms/step - loss: 1.0053 - accuracy: 0.7783\n"
     ]
    },
    {
     "data": {
      "text/plain": [
       "[1.0053074359893799, 0.7782725095748901]"
      ]
     },
     "execution_count": 6,
     "metadata": {},
     "output_type": "execute_result"
    }
   ],
   "source": [
    "model=models.Sequential()\n",
    "model.add(layers.Dense(64, activation='relu', input_shape=(10000, )))\n",
    "model.add(layers.Dense(64, activation='relu'))\n",
    "model.add(layers.Dense(46, activation='softmax'))\n",
    "\n",
    "model.compile(optimizer='rmsprop', loss='categorical_crossentropy', metrics=['accuracy'])\n",
    "model.fit(partial_x_train, partial_y_train, epochs=8, batch_size=512, validation_data=(x_val, y_val))\n",
    "\n",
    "results=model.evaluate(x_test, one_hot_test_labels)\n",
    "\n",
    "results"
   ]
  }
 ],
 "metadata": {
  "kernelspec": {
   "display_name": "Python 3.9.10 64-bit",
   "language": "python",
   "name": "python3"
  },
  "language_info": {
   "codemirror_mode": {
    "name": "ipython",
    "version": 3
   },
   "file_extension": ".py",
   "mimetype": "text/x-python",
   "name": "python",
   "nbconvert_exporter": "python",
   "pygments_lexer": "ipython3",
   "version": "3.9.10"
  },
  "orig_nbformat": 4,
  "vscode": {
   "interpreter": {
    "hash": "81794d4967e6c3204c66dcd87b604927b115b27c00565d3d43f05ba2f3a2cb0d"
   }
  }
 },
 "nbformat": 4,
 "nbformat_minor": 2
}
