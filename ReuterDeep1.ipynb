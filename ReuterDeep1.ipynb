{
 "cells": [
  {
   "cell_type": "markdown",
   "metadata": {},
   "source": [
    "케라스 데이터셋 로이터 데이터의 일반적 딥러닝테스트"
   ]
  },
  {
   "cell_type": "code",
   "execution_count": 2,
   "metadata": {},
   "outputs": [
    {
     "data": {
      "text/plain": [
       "(8982, 2246)"
      ]
     },
     "execution_count": 2,
     "metadata": {},
     "output_type": "execute_result"
    }
   ],
   "source": [
    "from keras.datasets import reuters\n",
    "(train_data, train_labels), (test_data, test_labels)=reuters.load_data(num_words=10000)\n",
    "\n",
    "len(train_data), len(test_data)\n",
    "\n",
    "#train_data[5]"
   ]
  },
  {
   "cell_type": "code",
   "execution_count": 4,
   "metadata": {},
   "outputs": [
    {
     "name": "stdout",
     "output_type": "stream",
     "text": [
      "? the u s agriculture department estimated canada's 1986 87 wheat crop at 31 85 mln tonnes vs 31 85 mln tonnes last month it estimated 1985 86 output at 24 25 mln tonnes vs 24 25 mln last month canadian 1986 87 coarse grain production is projected at 27 62 mln tonnes vs 27 62 mln tonnes last month production in 1985 86 is estimated at 24 95 mln tonnes vs 24 95 mln last month canadian wheat exports in 1986 87 are forecast at 19 00 mln tonnes vs 18 00 mln tonnes last month exports in 1985 86 are estimated at 17 71 mln tonnes vs 17 72 mln last month reuter 3\n"
     ]
    }
   ],
   "source": [
    "word_index=reuters.get_word_index()\n",
    "reverse_word_index=dict([(value, key) for (key, value) in word_index.items()])\n",
    "decoded_newswire=' '.join([reverse_word_index.get(i-3, '?') for i in train_data[5]])\n",
    "print(decoded_newswire)"
   ]
  },
  {
   "cell_type": "code",
   "execution_count": 7,
   "metadata": {},
   "outputs": [],
   "source": [
    "import numpy as np\n",
    "\n",
    "def vectorize_sequences(sequences, dimension=10000):\n",
    "\tresults=np.zeros((len(sequences), dimension))\n",
    "\tfor i, sequence in enumerate(sequences):\n",
    "\t\tresults[i, sequence]=1.\n",
    "\treturn results\n",
    "\n",
    "x_train = vectorize_sequences(train_data)\n",
    "x_test = vectorize_sequences(test_data)\n",
    "\n",
    "def to_one_hot(labels, dimension=46):\n",
    "\tresults=np.zeros((len(labels), dimension))\n",
    "\tfor i, label in enumerate(labels):\n",
    "\t\tresults[i, label] =1.\n",
    "\treturn results\n",
    "\n",
    "one_hot_train_labels=to_one_hot(train_labels)\n",
    "one_hot_test_labels=to_one_hot(test_labels)\n",
    "\n",
    "from keras.utils.np_utils import to_categorical\n",
    "\n",
    "one_hot_train_labels=to_categorical(train_labels)\n",
    "one_hot_test_labels=to_categorical(test_labels)"
   ]
  },
  {
   "cell_type": "code",
   "execution_count": 11,
   "metadata": {},
   "outputs": [
    {
     "name": "stdout",
     "output_type": "stream",
     "text": [
      "Epoch 1/20\n",
      "16/16 [==============================] - 1s 38ms/step - loss: 3.3452 - accuracy: 0.4598 - val_loss: 2.6260 - val_accuracy: 0.5800\n",
      "Epoch 2/20\n",
      "16/16 [==============================] - 0s 26ms/step - loss: 2.0782 - accuracy: 0.6308 - val_loss: 1.6859 - val_accuracy: 0.6490\n",
      "Epoch 3/20\n",
      "16/16 [==============================] - 0s 25ms/step - loss: 1.3922 - accuracy: 0.7110 - val_loss: 1.3239 - val_accuracy: 0.7080\n",
      "Epoch 4/20\n",
      "16/16 [==============================] - 0s 27ms/step - loss: 1.0651 - accuracy: 0.7655 - val_loss: 1.1561 - val_accuracy: 0.7510\n",
      "Epoch 5/20\n",
      "16/16 [==============================] - 0s 25ms/step - loss: 0.8385 - accuracy: 0.8165 - val_loss: 1.0482 - val_accuracy: 0.7870\n",
      "Epoch 6/20\n",
      "16/16 [==============================] - 0s 28ms/step - loss: 0.6499 - accuracy: 0.8648 - val_loss: 0.9711 - val_accuracy: 0.7980\n",
      "Epoch 7/20\n",
      "16/16 [==============================] - 0s 26ms/step - loss: 0.5038 - accuracy: 0.8994 - val_loss: 0.9180 - val_accuracy: 0.8030\n",
      "Epoch 8/20\n",
      "16/16 [==============================] - 0s 28ms/step - loss: 0.3872 - accuracy: 0.9230 - val_loss: 0.8810 - val_accuracy: 0.8190\n",
      "Epoch 9/20\n",
      "16/16 [==============================] - 0s 25ms/step - loss: 0.3031 - accuracy: 0.9386 - val_loss: 0.8830 - val_accuracy: 0.8100\n",
      "Epoch 10/20\n",
      "16/16 [==============================] - 0s 26ms/step - loss: 0.2481 - accuracy: 0.9466 - val_loss: 0.8736 - val_accuracy: 0.8150\n",
      "Epoch 11/20\n",
      "16/16 [==============================] - 0s 27ms/step - loss: 0.2022 - accuracy: 0.9530 - val_loss: 0.8779 - val_accuracy: 0.8190\n",
      "Epoch 12/20\n",
      "16/16 [==============================] - 0s 28ms/step - loss: 0.1790 - accuracy: 0.9544 - val_loss: 0.8826 - val_accuracy: 0.8210\n",
      "Epoch 13/20\n",
      "16/16 [==============================] - 0s 27ms/step - loss: 0.1561 - accuracy: 0.9558 - val_loss: 0.8985 - val_accuracy: 0.8200\n",
      "Epoch 14/20\n",
      "16/16 [==============================] - 0s 25ms/step - loss: 0.1384 - accuracy: 0.9589 - val_loss: 0.9084 - val_accuracy: 0.8210\n",
      "Epoch 15/20\n",
      "16/16 [==============================] - 0s 29ms/step - loss: 0.1276 - accuracy: 0.9575 - val_loss: 0.9257 - val_accuracy: 0.8200\n",
      "Epoch 16/20\n",
      "16/16 [==============================] - 0s 27ms/step - loss: 0.1193 - accuracy: 0.9590 - val_loss: 0.9425 - val_accuracy: 0.8180\n",
      "Epoch 17/20\n",
      "16/16 [==============================] - 0s 27ms/step - loss: 0.1133 - accuracy: 0.9599 - val_loss: 0.9490 - val_accuracy: 0.8120\n",
      "Epoch 18/20\n",
      "16/16 [==============================] - 0s 27ms/step - loss: 0.1087 - accuracy: 0.9607 - val_loss: 0.9511 - val_accuracy: 0.8170\n",
      "Epoch 19/20\n",
      "16/16 [==============================] - 0s 25ms/step - loss: 0.1042 - accuracy: 0.9614 - val_loss: 0.9736 - val_accuracy: 0.8140\n",
      "Epoch 20/20\n",
      "16/16 [==============================] - 0s 26ms/step - loss: 0.1028 - accuracy: 0.9624 - val_loss: 0.9828 - val_accuracy: 0.8010\n"
     ]
    }
   ],
   "source": [
    "from keras import models\n",
    "from keras import layers\n",
    "\n",
    "model=models.Sequential()\n",
    "model.add(layers.Dense(64, activation='relu', input_shape=(10000,)))\n",
    "model.add(layers.Dense(64, activation='relu'))\n",
    "model.add(layers.Dense(46, activation='softmax'))\n",
    "\n",
    "model.compile(optimizer='adam', loss='categorical_crossentropy', metrics=['accuracy'])\n",
    "\n",
    "x_val=x_train[:1000]\n",
    "partial_x_train=x_train[1000:]\n",
    "\n",
    "y_val=one_hot_train_labels[:1000]\n",
    "partial_y_train=one_hot_train_labels[1000:]\n",
    "\n",
    "history=model.fit(partial_x_train, partial_y_train, epochs=20, batch_size=512, validation_data=(x_val, y_val))"
   ]
  },
  {
   "cell_type": "code",
   "execution_count": 12,
   "metadata": {},
   "outputs": [
    {
     "name": "stderr",
     "output_type": "stream",
     "text": [
      "C:\\Users\\PC\\AppData\\Local\\Temp\\ipykernel_9336\\2841500642.py:9: UserWarning: color is redundantly defined by the 'color' keyword argument and the fmt string \"bo\" (-> color='b'). The keyword argument will take precedence.\n",
      "  plt.plot(epochs, loss, 'bo', label='Training loss', color='red')\n",
      "C:\\Users\\PC\\AppData\\Local\\Temp\\ipykernel_9336\\2841500642.py:10: UserWarning: color is redundantly defined by the 'color' keyword argument and the fmt string \"b\" (-> color=(0.0, 0.0, 1.0, 1)). The keyword argument will take precedence.\n",
      "  plt.plot(epochs, val_loss, 'b', label='Validation loss', color='blue')\n"
     ]
    },
    {
     "data": {
      "image/png": "[encoded data removed]",
      "text/plain": [
       "<Figure size 432x288 with 1 Axes>"
      ]
     },
     "metadata": {
      "needs_background": "light"
     },
     "output_type": "display_data"
    },
    {
     "name": "stderr",
     "output_type": "stream",
     "text": [
      "C:\\Users\\PC\\AppData\\Local\\Temp\\ipykernel_9336\\2841500642.py:23: UserWarning: color is redundantly defined by the 'color' keyword argument and the fmt string \"bo\" (-> color='b'). The keyword argument will take precedence.\n",
      "  plt.plot(epochs, acc, 'bo', label='Training acc', color='grey')\n",
      "C:\\Users\\PC\\AppData\\Local\\Temp\\ipykernel_9336\\2841500642.py:24: UserWarning: color is redundantly defined by the 'color' keyword argument and the fmt string \"b\" (-> color=(0.0, 0.0, 1.0, 1)). The keyword argument will take precedence.\n",
      "  plt.plot(epochs, val_acc, 'b', label='Validation acc', color='purple')\n"
     ]
    },
    {
     "data": {
      "image/png": "[encoded data removed]",
      "text/plain": [
       "<Figure size 432x288 with 1 Axes>"
      ]
     },
     "metadata": {
      "needs_background": "light"
     },
     "output_type": "display_data"
    }
   ],
   "source": [
    "import matplotlib.pyplot as plt\n",
    "\n",
    "\n",
    "loss=history.history['loss']\n",
    "val_loss=history.history['val_loss']\n",
    "\n",
    "epochs=range(1, len(loss)+1)\n",
    "\n",
    "plt.plot(epochs, loss, 'bo', label='Training loss', color='red')\n",
    "plt.plot(epochs, val_loss, 'b', label='Validation loss', color='blue')\n",
    "plt.title('Training and validation loss')\n",
    "plt.xlabel('Epochs')\n",
    "plt.ylabel('Loss')\n",
    "plt.grid()\n",
    "plt.legend()\n",
    "plt.show()\n",
    "\n",
    "plt.clf()\n",
    "\n",
    "acc=history.history['accuracy']\n",
    "val_acc=history.history['val_accuracy']\n",
    "\n",
    "plt.plot(epochs, acc, 'bo', label='Training acc', color='grey')\n",
    "plt.plot(epochs, val_acc, 'b', label='Validation acc', color='purple')\n",
    "plt.title('Training and validation accuracy')\n",
    "plt.xlabel('Epochs')\n",
    "plt.ylabel('Accuracy')\n",
    "plt.grid()\n",
    "plt.legend()\n",
    "plt.show()"
   ]
  },
  {
   "cell_type": "code",
   "execution_count": 13,
   "metadata": {},
   "outputs": [
    {
     "name": "stdout",
     "output_type": "stream",
     "text": [
      "Epoch 1/8\n",
      "16/16 [==============================] - 1s 42ms/step - loss: 2.4753 - accuracy: 0.5443 - val_loss: 1.6489 - val_accuracy: 0.6400\n",
      "Epoch 2/8\n",
      "16/16 [==============================] - 0s 28ms/step - loss: 1.3664 - accuracy: 0.7028 - val_loss: 1.2926 - val_accuracy: 0.7040\n",
      "Epoch 3/8\n",
      "16/16 [==============================] - 0s 29ms/step - loss: 1.0222 - accuracy: 0.7815 - val_loss: 1.1269 - val_accuracy: 0.7430\n",
      "Epoch 4/8\n",
      "16/16 [==============================] - 0s 29ms/step - loss: 0.8070 - accuracy: 0.8269 - val_loss: 1.0354 - val_accuracy: 0.7720\n",
      "Epoch 5/8\n",
      "16/16 [==============================] - 0s 31ms/step - loss: 0.6456 - accuracy: 0.8627 - val_loss: 0.9702 - val_accuracy: 0.7790\n",
      "Epoch 6/8\n",
      "16/16 [==============================] - 0s 29ms/step - loss: 0.5064 - accuracy: 0.8918 - val_loss: 0.9295 - val_accuracy: 0.8040\n",
      "Epoch 7/8\n",
      "16/16 [==============================] - 0s 31ms/step - loss: 0.4124 - accuracy: 0.9127 - val_loss: 0.9244 - val_accuracy: 0.8040\n",
      "Epoch 8/8\n",
      "16/16 [==============================] - 0s 29ms/step - loss: 0.3299 - accuracy: 0.9337 - val_loss: 0.9101 - val_accuracy: 0.8080\n",
      "71/71 [==============================] - 0s 3ms/step - loss: 0.9874 - accuracy: 0.7858\n"
     ]
    },
    {
     "data": {
      "text/plain": [
       "[0.9873524904251099, 0.7858415246009827]"
      ]
     },
     "execution_count": 13,
     "metadata": {},
     "output_type": "execute_result"
    }
   ],
   "source": [
    "model=models.Sequential()\n",
    "model.add(layers.Dense(64, activation='relu', input_shape=(10000, )))\n",
    "model.add(layers.Dense(64, activation='relu'))\n",
    "model.add(layers.Dense(46, activation='softmax'))\n",
    "\n",
    "model.compile(optimizer='rmsprop', loss='categorical_crossentropy', metrics=['accuracy'])\n",
    "model.fit(partial_x_train, partial_y_train, epochs=8, batch_size=512, validation_data=(x_val, y_val))\n",
    "\n",
    "results=model.evaluate(x_test, one_hot_test_labels)\n",
    "\n",
    "results"
   ]
  }
 ],
 "metadata": {
  "kernelspec": {
   "display_name": "Python 3.9.10 64-bit",
   "language": "python",
   "name": "python3"
  },
  "language_info": {
   "codemirror_mode": {
    "name": "ipython",
    "version": 3
   },
   "file_extension": ".py",
   "mimetype": "text/x-python",
   "name": "python",
   "nbconvert_exporter": "python",
   "pygments_lexer": "ipython3",
   "version": "3.9.10"
  },
  "orig_nbformat": 4,
  "vscode": {
   "interpreter": {
    "hash": "81794d4967e6c3204c66dcd87b604927b115b27c00565d3d43f05ba2f3a2cb0d"
   }
  }
 },
 "nbformat": 4,
 "nbformat_minor": 2
}
