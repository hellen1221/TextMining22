{
 "cells": [
  {
   "cell_type": "markdown",
   "metadata": {},
   "source": [
    "케라스 데이터셋 로이터 데이터의 일반적 딥러닝테스트 학습시키지 않은 테스트 데이터 hidden layer의 수 4, 8,16,32,64 : 46개 클래스에 적용하기 위하여32개정도"
   ]
  },
  {
   "cell_type": "code",
   "execution_count": 14,
   "metadata": {},
   "outputs": [
    {
     "data": {
      "text/plain": [
       "(8982, 2246)"
      ]
     },
     "execution_count": 14,
     "metadata": {},
     "output_type": "execute_result"
    }
   ],
   "source": [
    "from keras.datasets import reuters\n",
    "(train_data, train_labels), (test_data, test_labels)=reuters.load_data(num_words=10000)\n",
    "\n",
    "len(train_data), len(test_data)\n",
    "\n",
    "#train_data[5]"
   ]
  },
  {
   "cell_type": "code",
   "execution_count": 15,
   "metadata": {},
   "outputs": [
    {
     "name": "stdout",
     "output_type": "stream",
     "text": [
      "? the u s agriculture department estimated canada's 1986 87 wheat crop at 31 85 mln tonnes vs 31 85 mln tonnes last month it estimated 1985 86 output at 24 25 mln tonnes vs 24 25 mln last month canadian 1986 87 coarse grain production is projected at 27 62 mln tonnes vs 27 62 mln tonnes last month production in 1985 86 is estimated at 24 95 mln tonnes vs 24 95 mln last month canadian wheat exports in 1986 87 are forecast at 19 00 mln tonnes vs 18 00 mln tonnes last month exports in 1985 86 are estimated at 17 71 mln tonnes vs 17 72 mln last month reuter 3\n"
     ]
    }
   ],
   "source": [
    "word_index=reuters.get_word_index()\n",
    "reverse_word_index=dict([(value, key) for (key, value) in word_index.items()])\n",
    "decoded_newswire=' '.join([reverse_word_index.get(i-3, '?') for i in train_data[5]])\n",
    "print(decoded_newswire)"
   ]
  },
  {
   "cell_type": "code",
   "execution_count": 16,
   "metadata": {},
   "outputs": [],
   "source": [
    "import numpy as np\n",
    "\n",
    "def vectorize_sequences(sequences, dimension=10000):\n",
    "\tresults=np.zeros((len(sequences), dimension))\n",
    "\tfor i, sequence in enumerate(sequences):\n",
    "\t\tresults[i, sequence]=1.\n",
    "\treturn results\n",
    "\n",
    "x_train = vectorize_sequences(train_data)\n",
    "x_test = vectorize_sequences(test_data)\n",
    "\n",
    "def to_one_hot(labels, dimension=46):\n",
    "\tresults=np.zeros((len(labels), dimension))\n",
    "\tfor i, label in enumerate(labels):\n",
    "\t\tresults[i, label] =1.\n",
    "\treturn results\n",
    "\n",
    "one_hot_train_labels=to_one_hot(train_labels)\n",
    "one_hot_test_labels=to_one_hot(test_labels)\n",
    "\n",
    "from keras.utils.np_utils import to_categorical\n",
    "\n",
    "one_hot_train_labels=to_categorical(train_labels)\n",
    "one_hot_test_labels=to_categorical(test_labels)"
   ]
  },
  {
   "cell_type": "code",
   "execution_count": 23,
   "metadata": {},
   "outputs": [
    {
     "name": "stdout",
     "output_type": "stream",
     "text": [
      "Epoch 1/20\n",
      "18/18 [==============================] - 1s 38ms/step - loss: 3.5914 - accuracy: 0.0916 - val_loss: 3.2576 - val_accuracy: 0.3379\n",
      "Epoch 2/20\n",
      "18/18 [==============================] - 0s 25ms/step - loss: 2.8844 - accuracy: 0.4791 - val_loss: 2.5556 - val_accuracy: 0.5370\n",
      "Epoch 3/20\n",
      "18/18 [==============================] - 1s 30ms/step - loss: 2.1702 - accuracy: 0.5725 - val_loss: 1.9943 - val_accuracy: 0.5793\n",
      "Epoch 4/20\n",
      "18/18 [==============================] - 0s 26ms/step - loss: 1.6948 - accuracy: 0.6074 - val_loss: 1.7177 - val_accuracy: 0.6020\n",
      "Epoch 5/20\n",
      "18/18 [==============================] - 0s 27ms/step - loss: 1.4503 - accuracy: 0.6448 - val_loss: 1.5902 - val_accuracy: 0.6202\n",
      "Epoch 6/20\n",
      "18/18 [==============================] - 0s 26ms/step - loss: 1.3023 - accuracy: 0.6776 - val_loss: 1.5181 - val_accuracy: 0.6354\n",
      "Epoch 7/20\n",
      "18/18 [==============================] - 0s 27ms/step - loss: 1.1915 - accuracy: 0.7045 - val_loss: 1.4666 - val_accuracy: 0.6469\n",
      "Epoch 8/20\n",
      "18/18 [==============================] - 0s 26ms/step - loss: 1.1054 - accuracy: 0.7194 - val_loss: 1.4356 - val_accuracy: 0.6554\n",
      "Epoch 9/20\n",
      "18/18 [==============================] - 0s 26ms/step - loss: 1.0333 - accuracy: 0.7384 - val_loss: 1.4158 - val_accuracy: 0.6581\n",
      "Epoch 10/20\n",
      "18/18 [==============================] - 0s 27ms/step - loss: 0.9724 - accuracy: 0.7526 - val_loss: 1.4080 - val_accuracy: 0.6665\n",
      "Epoch 11/20\n",
      "18/18 [==============================] - 0s 26ms/step - loss: 0.9179 - accuracy: 0.7659 - val_loss: 1.4050 - val_accuracy: 0.6728\n",
      "Epoch 12/20\n",
      "18/18 [==============================] - 0s 27ms/step - loss: 0.8678 - accuracy: 0.7787 - val_loss: 1.4005 - val_accuracy: 0.6763\n",
      "Epoch 13/20\n",
      "18/18 [==============================] - 0s 27ms/step - loss: 0.8237 - accuracy: 0.7918 - val_loss: 1.4059 - val_accuracy: 0.6839\n",
      "Epoch 14/20\n",
      "18/18 [==============================] - 1s 29ms/step - loss: 0.7831 - accuracy: 0.7995 - val_loss: 1.4124 - val_accuracy: 0.6852\n",
      "Epoch 15/20\n",
      "18/18 [==============================] - 1s 30ms/step - loss: 0.7468 - accuracy: 0.8078 - val_loss: 1.4283 - val_accuracy: 0.6830\n",
      "Epoch 16/20\n",
      "18/18 [==============================] - 0s 27ms/step - loss: 0.7136 - accuracy: 0.8130 - val_loss: 1.4417 - val_accuracy: 0.6870\n",
      "Epoch 17/20\n",
      "18/18 [==============================] - 0s 26ms/step - loss: 0.6850 - accuracy: 0.8189 - val_loss: 1.4601 - val_accuracy: 0.6830\n",
      "Epoch 18/20\n",
      "18/18 [==============================] - 0s 27ms/step - loss: 0.6575 - accuracy: 0.8209 - val_loss: 1.4764 - val_accuracy: 0.6888\n",
      "Epoch 19/20\n",
      "18/18 [==============================] - 0s 26ms/step - loss: 0.6329 - accuracy: 0.8259 - val_loss: 1.4985 - val_accuracy: 0.6861\n",
      "Epoch 20/20\n",
      "18/18 [==============================] - 0s 26ms/step - loss: 0.6104 - accuracy: 0.8298 - val_loss: 1.5211 - val_accuracy: 0.6848\n"
     ]
    }
   ],
   "source": [
    "from keras import models\n",
    "from keras import layers\n",
    "\n",
    "model=models.Sequential()\n",
    "model.add(layers.Dense(64, activation='relu', input_shape=(10000,)))\n",
    "model.add(layers.Dense(4, activation='relu'))\n",
    "model.add(layers.Dense(46, activation='softmax'))\n",
    "\n",
    "model.compile(optimizer='adam', loss='categorical_crossentropy', metrics=['accuracy'])\n",
    "\n",
    "y_train = one_hot_train_labels\n",
    "y_test = one_hot_test_labels \n",
    "\n",
    "history=model.fit(x_train, y_train, epochs=20, batch_size=512, validation_data=(x_test, y_test))"
   ]
  },
  {
   "cell_type": "code",
   "execution_count": 18,
   "metadata": {},
   "outputs": [
    {
     "name": "stderr",
     "output_type": "stream",
     "text": [
      "C:\\Users\\PC\\AppData\\Local\\Temp\\ipykernel_16652\\2841500642.py:9: UserWarning: color is redundantly defined by the 'color' keyword argument and the fmt string \"bo\" (-> color='b'). The keyword argument will take precedence.\n",
      "  plt.plot(epochs, loss, 'bo', label='Training loss', color='red')\n",
      "C:\\Users\\PC\\AppData\\Local\\Temp\\ipykernel_16652\\2841500642.py:10: UserWarning: color is redundantly defined by the 'color' keyword argument and the fmt string \"b\" (-> color=(0.0, 0.0, 1.0, 1)). The keyword argument will take precedence.\n",
      "  plt.plot(epochs, val_loss, 'b', label='Validation loss', color='blue')\n"
     ]
    },
    {
     "data": {
      "image/png": "[encoded data removed]",
      "text/plain": [
       "<Figure size 432x288 with 1 Axes>"
      ]
     },
     "metadata": {
      "needs_background": "light"
     },
     "output_type": "display_data"
    },
    {
     "name": "stderr",
     "output_type": "stream",
     "text": [
      "C:\\Users\\PC\\AppData\\Local\\Temp\\ipykernel_16652\\2841500642.py:23: UserWarning: color is redundantly defined by the 'color' keyword argument and the fmt string \"bo\" (-> color='b'). The keyword argument will take precedence.\n",
      "  plt.plot(epochs, acc, 'bo', label='Training acc', color='grey')\n",
      "C:\\Users\\PC\\AppData\\Local\\Temp\\ipykernel_16652\\2841500642.py:24: UserWarning: color is redundantly defined by the 'color' keyword argument and the fmt string \"b\" (-> color=(0.0, 0.0, 1.0, 1)). The keyword argument will take precedence.\n",
      "  plt.plot(epochs, val_acc, 'b', label='Validation acc', color='purple')\n"
     ]
    },
    {
     "data": {
      "image/png": "[encoded data removed]",
      "text/plain": [
       "<Figure size 432x288 with 1 Axes>"
      ]
     },
     "metadata": {
      "needs_background": "light"
     },
     "output_type": "display_data"
    }
   ],
   "source": [
    "import matplotlib.pyplot as plt\n",
    "\n",
    "\n",
    "loss=history.history['loss']\n",
    "val_loss=history.history['val_loss']\n",
    "\n",
    "epochs=range(1, len(loss)+1)\n",
    "\n",
    "plt.plot(epochs, loss, 'bo', label='Training loss', color='red')\n",
    "plt.plot(epochs, val_loss, 'b', label='Validation loss', color='blue')\n",
    "plt.title('Training and validation loss')\n",
    "plt.xlabel('Epochs')\n",
    "plt.ylabel('Loss')\n",
    "plt.grid()\n",
    "plt.legend()\n",
    "plt.show()\n",
    "\n",
    "plt.clf()\n",
    "\n",
    "acc=history.history['accuracy']\n",
    "val_acc=history.history['val_accuracy']\n",
    "\n",
    "plt.plot(epochs, acc, 'bo', label='Training acc', color='grey')\n",
    "plt.plot(epochs, val_acc, 'b', label='Validation acc', color='purple')\n",
    "plt.title('Training and validation accuracy')\n",
    "plt.xlabel('Epochs')\n",
    "plt.ylabel('Accuracy')\n",
    "plt.grid()\n",
    "plt.legend()\n",
    "plt.show()"
   ]
  },
  {
   "cell_type": "code",
   "execution_count": 19,
   "metadata": {},
   "outputs": [
    {
     "name": "stdout",
     "output_type": "stream",
     "text": [
      "Epoch 1/20\n",
      "18/18 [==============================] - 1s 38ms/step - loss: 3.5491 - accuracy: 0.1486 - val_loss: 3.2727 - val_accuracy: 0.2965\n",
      "Epoch 2/20\n",
      "18/18 [==============================] - 0s 25ms/step - loss: 2.9200 - accuracy: 0.3723 - val_loss: 2.6355 - val_accuracy: 0.5071\n",
      "Epoch 3/20\n",
      "18/18 [==============================] - 0s 26ms/step - loss: 2.2128 - accuracy: 0.6040 - val_loss: 2.0187 - val_accuracy: 0.6180\n",
      "Epoch 4/20\n",
      "18/18 [==============================] - 0s 25ms/step - loss: 1.6625 - accuracy: 0.6659 - val_loss: 1.6567 - val_accuracy: 0.6371\n",
      "Epoch 5/20\n",
      "18/18 [==============================] - 0s 26ms/step - loss: 1.3516 - accuracy: 0.6953 - val_loss: 1.4774 - val_accuracy: 0.6598\n",
      "Epoch 6/20\n",
      "18/18 [==============================] - 0s 25ms/step - loss: 1.1517 - accuracy: 0.7371 - val_loss: 1.3631 - val_accuracy: 0.6999\n",
      "Epoch 7/20\n",
      "18/18 [==============================] - 0s 26ms/step - loss: 0.9940 - accuracy: 0.7861 - val_loss: 1.2752 - val_accuracy: 0.7297\n",
      "Epoch 8/20\n",
      "18/18 [==============================] - 0s 25ms/step - loss: 0.8614 - accuracy: 0.8200 - val_loss: 1.2218 - val_accuracy: 0.7418\n",
      "Epoch 9/20\n",
      "18/18 [==============================] - 0s 25ms/step - loss: 0.7530 - accuracy: 0.8388 - val_loss: 1.1760 - val_accuracy: 0.7507\n",
      "Epoch 10/20\n",
      "18/18 [==============================] - 0s 26ms/step - loss: 0.6618 - accuracy: 0.8533 - val_loss: 1.1603 - val_accuracy: 0.7516\n",
      "Epoch 11/20\n",
      "18/18 [==============================] - 0s 25ms/step - loss: 0.5852 - accuracy: 0.8665 - val_loss: 1.1332 - val_accuracy: 0.7556\n",
      "Epoch 12/20\n",
      "18/18 [==============================] - 0s 26ms/step - loss: 0.5180 - accuracy: 0.8818 - val_loss: 1.1272 - val_accuracy: 0.7573\n",
      "Epoch 13/20\n",
      "18/18 [==============================] - 0s 25ms/step - loss: 0.4624 - accuracy: 0.8953 - val_loss: 1.1321 - val_accuracy: 0.7551\n",
      "Epoch 14/20\n",
      "18/18 [==============================] - 0s 26ms/step - loss: 0.4148 - accuracy: 0.9050 - val_loss: 1.1349 - val_accuracy: 0.7582\n",
      "Epoch 15/20\n",
      "18/18 [==============================] - 0s 25ms/step - loss: 0.3747 - accuracy: 0.9139 - val_loss: 1.1528 - val_accuracy: 0.7556\n",
      "Epoch 16/20\n",
      "18/18 [==============================] - 0s 27ms/step - loss: 0.3386 - accuracy: 0.9212 - val_loss: 1.1613 - val_accuracy: 0.7587\n",
      "Epoch 17/20\n",
      "18/18 [==============================] - 0s 25ms/step - loss: 0.3077 - accuracy: 0.9257 - val_loss: 1.1810 - val_accuracy: 0.7587\n",
      "Epoch 18/20\n",
      "18/18 [==============================] - 0s 26ms/step - loss: 0.2813 - accuracy: 0.9312 - val_loss: 1.2051 - val_accuracy: 0.7591\n",
      "Epoch 19/20\n",
      "18/18 [==============================] - 0s 25ms/step - loss: 0.2589 - accuracy: 0.9375 - val_loss: 1.2168 - val_accuracy: 0.7627\n",
      "Epoch 20/20\n",
      "18/18 [==============================] - 0s 25ms/step - loss: 0.2387 - accuracy: 0.9380 - val_loss: 1.2364 - val_accuracy: 0.7605\n"
     ]
    }
   ],
   "source": [
    "from keras import models\n",
    "from keras import layers\n",
    "\n",
    "model=models.Sequential()\n",
    "model.add(layers.Dense(64, activation='relu', input_shape=(10000,)))\n",
    "model.add(layers.Dense(8, activation='relu'))\n",
    "model.add(layers.Dense(46, activation='softmax'))\n",
    "\n",
    "model.compile(optimizer='adam', loss='categorical_crossentropy', metrics=['accuracy'])\n",
    "\n",
    "y_train = one_hot_train_labels\n",
    "y_test = one_hot_test_labels \n",
    "\n",
    "history=model.fit(x_train, y_train, epochs=20, batch_size=512, validation_data=(x_test, y_test))"
   ]
  },
  {
   "cell_type": "code",
   "execution_count": 20,
   "metadata": {},
   "outputs": [
    {
     "name": "stdout",
     "output_type": "stream",
     "text": [
      "Epoch 1/20\n",
      "18/18 [==============================] - 1s 38ms/step - loss: 3.4109 - accuracy: 0.1931 - val_loss: 2.8168 - val_accuracy: 0.5254\n",
      "Epoch 2/20\n",
      "18/18 [==============================] - 0s 25ms/step - loss: 2.2800 - accuracy: 0.5878 - val_loss: 1.9015 - val_accuracy: 0.6158\n",
      "Epoch 3/20\n",
      "18/18 [==============================] - 0s 27ms/step - loss: 1.5118 - accuracy: 0.6854 - val_loss: 1.4605 - val_accuracy: 0.6870\n",
      "Epoch 4/20\n",
      "18/18 [==============================] - 0s 25ms/step - loss: 1.1339 - accuracy: 0.7544 - val_loss: 1.2785 - val_accuracy: 0.7226\n",
      "Epoch 5/20\n",
      "18/18 [==============================] - 0s 27ms/step - loss: 0.9229 - accuracy: 0.7964 - val_loss: 1.1875 - val_accuracy: 0.7386\n",
      "Epoch 6/20\n",
      "18/18 [==============================] - 0s 25ms/step - loss: 0.7708 - accuracy: 0.8302 - val_loss: 1.1231 - val_accuracy: 0.7547\n",
      "Epoch 7/20\n",
      "18/18 [==============================] - 0s 26ms/step - loss: 0.6471 - accuracy: 0.8611 - val_loss: 1.0791 - val_accuracy: 0.7676\n",
      "Epoch 8/20\n",
      "18/18 [==============================] - 0s 26ms/step - loss: 0.5478 - accuracy: 0.8822 - val_loss: 1.0525 - val_accuracy: 0.7725\n",
      "Epoch 9/20\n",
      "18/18 [==============================] - 0s 26ms/step - loss: 0.4622 - accuracy: 0.9020 - val_loss: 1.0337 - val_accuracy: 0.7769\n",
      "Epoch 10/20\n",
      "18/18 [==============================] - 0s 25ms/step - loss: 0.3921 - accuracy: 0.9188 - val_loss: 1.0265 - val_accuracy: 0.7778\n",
      "Epoch 11/20\n",
      "18/18 [==============================] - 0s 26ms/step - loss: 0.3328 - accuracy: 0.9299 - val_loss: 1.0198 - val_accuracy: 0.7836\n",
      "Epoch 12/20\n",
      "18/18 [==============================] - 0s 25ms/step - loss: 0.2874 - accuracy: 0.9397 - val_loss: 1.0263 - val_accuracy: 0.7854\n",
      "Epoch 13/20\n",
      "18/18 [==============================] - 0s 25ms/step - loss: 0.2490 - accuracy: 0.9450 - val_loss: 1.0356 - val_accuracy: 0.7845\n",
      "Epoch 14/20\n",
      "18/18 [==============================] - 0s 27ms/step - loss: 0.2220 - accuracy: 0.9485 - val_loss: 1.0410 - val_accuracy: 0.7827\n",
      "Epoch 15/20\n",
      "18/18 [==============================] - 0s 26ms/step - loss: 0.1968 - accuracy: 0.9528 - val_loss: 1.0538 - val_accuracy: 0.7872\n",
      "Epoch 16/20\n",
      "18/18 [==============================] - 0s 27ms/step - loss: 0.1789 - accuracy: 0.9529 - val_loss: 1.0707 - val_accuracy: 0.7867\n",
      "Epoch 17/20\n",
      "18/18 [==============================] - 0s 25ms/step - loss: 0.1642 - accuracy: 0.9555 - val_loss: 1.0864 - val_accuracy: 0.7867\n",
      "Epoch 18/20\n",
      "18/18 [==============================] - 0s 26ms/step - loss: 0.1543 - accuracy: 0.9565 - val_loss: 1.0983 - val_accuracy: 0.7876\n",
      "Epoch 19/20\n",
      "18/18 [==============================] - 0s 26ms/step - loss: 0.1406 - accuracy: 0.9564 - val_loss: 1.1115 - val_accuracy: 0.7850\n",
      "Epoch 20/20\n",
      "18/18 [==============================] - 0s 26ms/step - loss: 0.1333 - accuracy: 0.9579 - val_loss: 1.1150 - val_accuracy: 0.7872\n"
     ]
    }
   ],
   "source": [
    "from keras import models\n",
    "from keras import layers\n",
    "\n",
    "model=models.Sequential()\n",
    "model.add(layers.Dense(64, activation='relu', input_shape=(10000,)))\n",
    "model.add(layers.Dense(16, activation='relu'))\n",
    "model.add(layers.Dense(46, activation='softmax'))\n",
    "\n",
    "model.compile(optimizer='adam', loss='categorical_crossentropy', metrics=['accuracy'])\n",
    "\n",
    "y_train = one_hot_train_labels\n",
    "y_test = one_hot_test_labels \n",
    "\n",
    "history=model.fit(x_train, y_train, epochs=20, batch_size=512, validation_data=(x_test, y_test))"
   ]
  },
  {
   "cell_type": "code",
   "execution_count": 21,
   "metadata": {},
   "outputs": [
    {
     "name": "stdout",
     "output_type": "stream",
     "text": [
      "Epoch 1/20\n",
      "18/18 [==============================] - 1s 40ms/step - loss: 3.3170 - accuracy: 0.4236 - val_loss: 2.7070 - val_accuracy: 0.5904\n",
      "Epoch 2/20\n",
      "18/18 [==============================] - 1s 32ms/step - loss: 2.1956 - accuracy: 0.6084 - val_loss: 1.8794 - val_accuracy: 0.6220\n",
      "Epoch 3/20\n",
      "18/18 [==============================] - 0s 27ms/step - loss: 1.5373 - accuracy: 0.6718 - val_loss: 1.4863 - val_accuracy: 0.6696\n",
      "Epoch 4/20\n",
      "18/18 [==============================] - 0s 27ms/step - loss: 1.1954 - accuracy: 0.7326 - val_loss: 1.2863 - val_accuracy: 0.7106\n",
      "Epoch 5/20\n",
      "18/18 [==============================] - 0s 26ms/step - loss: 0.9586 - accuracy: 0.7939 - val_loss: 1.1522 - val_accuracy: 0.7524\n",
      "Epoch 6/20\n",
      "18/18 [==============================] - 0s 26ms/step - loss: 0.7692 - accuracy: 0.8411 - val_loss: 1.0605 - val_accuracy: 0.7738\n",
      "Epoch 7/20\n",
      "18/18 [==============================] - 0s 26ms/step - loss: 0.6114 - accuracy: 0.8760 - val_loss: 0.9938 - val_accuracy: 0.7823\n",
      "Epoch 8/20\n",
      "18/18 [==============================] - 0s 27ms/step - loss: 0.4811 - accuracy: 0.9066 - val_loss: 0.9614 - val_accuracy: 0.7872\n",
      "Epoch 9/20\n",
      "18/18 [==============================] - 0s 25ms/step - loss: 0.3819 - accuracy: 0.9251 - val_loss: 0.9524 - val_accuracy: 0.7934\n",
      "Epoch 10/20\n",
      "18/18 [==============================] - 0s 26ms/step - loss: 0.3056 - accuracy: 0.9365 - val_loss: 0.9502 - val_accuracy: 0.7907\n",
      "Epoch 11/20\n",
      "18/18 [==============================] - 0s 27ms/step - loss: 0.2525 - accuracy: 0.9450 - val_loss: 0.9582 - val_accuracy: 0.7939\n",
      "Epoch 12/20\n",
      "18/18 [==============================] - 1s 28ms/step - loss: 0.2149 - accuracy: 0.9498 - val_loss: 0.9796 - val_accuracy: 0.7921\n",
      "Epoch 13/20\n",
      "18/18 [==============================] - 0s 26ms/step - loss: 0.1876 - accuracy: 0.9527 - val_loss: 1.0059 - val_accuracy: 0.7903\n",
      "Epoch 14/20\n",
      "18/18 [==============================] - 0s 27ms/step - loss: 0.1655 - accuracy: 0.9534 - val_loss: 1.0352 - val_accuracy: 0.7858\n",
      "Epoch 15/20\n",
      "18/18 [==============================] - 0s 27ms/step - loss: 0.1517 - accuracy: 0.9542 - val_loss: 1.0328 - val_accuracy: 0.7930\n",
      "Epoch 16/20\n",
      "18/18 [==============================] - 0s 28ms/step - loss: 0.1384 - accuracy: 0.9566 - val_loss: 1.0813 - val_accuracy: 0.7890\n",
      "Epoch 17/20\n",
      "18/18 [==============================] - 0s 26ms/step - loss: 0.1324 - accuracy: 0.9576 - val_loss: 1.0500 - val_accuracy: 0.7956\n",
      "Epoch 18/20\n",
      "18/18 [==============================] - 0s 27ms/step - loss: 0.1209 - accuracy: 0.9591 - val_loss: 1.1005 - val_accuracy: 0.7916\n",
      "Epoch 19/20\n",
      "18/18 [==============================] - 0s 28ms/step - loss: 0.1213 - accuracy: 0.9585 - val_loss: 1.0810 - val_accuracy: 0.7925\n",
      "Epoch 20/20\n",
      "18/18 [==============================] - 0s 26ms/step - loss: 0.1144 - accuracy: 0.9572 - val_loss: 1.1209 - val_accuracy: 0.7916\n"
     ]
    }
   ],
   "source": [
    "from keras import models\n",
    "from keras import layers\n",
    "\n",
    "model=models.Sequential()\n",
    "model.add(layers.Dense(64, activation='relu', input_shape=(10000,)))\n",
    "model.add(layers.Dense(32, activation='relu'))\n",
    "model.add(layers.Dense(46, activation='softmax'))\n",
    "\n",
    "model.compile(optimizer='adam', loss='categorical_crossentropy', metrics=['accuracy'])\n",
    "\n",
    "y_train = one_hot_train_labels\n",
    "y_test = one_hot_test_labels \n",
    "\n",
    "history=model.fit(x_train, y_train, epochs=20, batch_size=512, validation_data=(x_test, y_test))"
   ]
  },
  {
   "cell_type": "code",
   "execution_count": 22,
   "metadata": {},
   "outputs": [
    {
     "name": "stdout",
     "output_type": "stream",
     "text": [
      "Epoch 1/20\n",
      "18/18 [==============================] - 1s 39ms/step - loss: 3.2363 - accuracy: 0.4414 - val_loss: 2.4000 - val_accuracy: 0.5378\n",
      "Epoch 2/20\n",
      "18/18 [==============================] - 0s 26ms/step - loss: 1.8489 - accuracy: 0.6300 - val_loss: 1.5669 - val_accuracy: 0.6736\n",
      "Epoch 3/20\n",
      "18/18 [==============================] - 1s 29ms/step - loss: 1.2408 - accuracy: 0.7344 - val_loss: 1.2770 - val_accuracy: 0.7199\n",
      "Epoch 4/20\n",
      "18/18 [==============================] - 1s 28ms/step - loss: 0.9409 - accuracy: 0.7970 - val_loss: 1.1293 - val_accuracy: 0.7565\n",
      "Epoch 5/20\n",
      "18/18 [==============================] - 1s 29ms/step - loss: 0.7218 - accuracy: 0.8473 - val_loss: 1.0264 - val_accuracy: 0.7760\n",
      "Epoch 6/20\n",
      "18/18 [==============================] - 0s 28ms/step - loss: 0.5485 - accuracy: 0.8886 - val_loss: 0.9710 - val_accuracy: 0.7845\n",
      "Epoch 7/20\n",
      "18/18 [==============================] - 0s 27ms/step - loss: 0.4244 - accuracy: 0.9124 - val_loss: 0.9382 - val_accuracy: 0.7947\n",
      "Epoch 8/20\n",
      "18/18 [==============================] - 0s 26ms/step - loss: 0.3285 - accuracy: 0.9306 - val_loss: 0.9288 - val_accuracy: 0.7912\n",
      "Epoch 9/20\n",
      "18/18 [==============================] - 0s 26ms/step - loss: 0.2621 - accuracy: 0.9401 - val_loss: 0.9345 - val_accuracy: 0.7939\n",
      "Epoch 10/20\n",
      "18/18 [==============================] - 0s 26ms/step - loss: 0.2200 - accuracy: 0.9479 - val_loss: 0.9489 - val_accuracy: 0.7992\n",
      "Epoch 11/20\n",
      "18/18 [==============================] - 0s 27ms/step - loss: 0.1868 - accuracy: 0.9498 - val_loss: 0.9529 - val_accuracy: 0.7965\n",
      "Epoch 12/20\n",
      "18/18 [==============================] - 0s 26ms/step - loss: 0.1644 - accuracy: 0.9554 - val_loss: 0.9645 - val_accuracy: 0.8005\n",
      "Epoch 13/20\n",
      "18/18 [==============================] - 0s 28ms/step - loss: 0.1512 - accuracy: 0.9567 - val_loss: 1.0177 - val_accuracy: 0.7890\n",
      "Epoch 14/20\n",
      "18/18 [==============================] - 0s 27ms/step - loss: 0.1411 - accuracy: 0.9550 - val_loss: 1.0105 - val_accuracy: 0.7939\n",
      "Epoch 15/20\n",
      "18/18 [==============================] - 0s 27ms/step - loss: 0.1282 - accuracy: 0.9580 - val_loss: 1.0535 - val_accuracy: 0.7925\n",
      "Epoch 16/20\n",
      "18/18 [==============================] - 0s 27ms/step - loss: 0.1235 - accuracy: 0.9586 - val_loss: 1.0250 - val_accuracy: 0.7974\n",
      "Epoch 17/20\n",
      "18/18 [==============================] - 0s 27ms/step - loss: 0.1165 - accuracy: 0.9572 - val_loss: 1.0555 - val_accuracy: 0.7970\n",
      "Epoch 18/20\n",
      "18/18 [==============================] - 1s 28ms/step - loss: 0.1129 - accuracy: 0.9579 - val_loss: 1.0467 - val_accuracy: 0.7943\n",
      "Epoch 19/20\n",
      "18/18 [==============================] - 0s 28ms/step - loss: 0.1084 - accuracy: 0.9594 - val_loss: 1.0885 - val_accuracy: 0.7903\n",
      "Epoch 20/20\n",
      "18/18 [==============================] - 0s 26ms/step - loss: 0.1075 - accuracy: 0.9595 - val_loss: 1.0781 - val_accuracy: 0.7912\n"
     ]
    }
   ],
   "source": [
    "from keras import models\n",
    "from keras import layers\n",
    "\n",
    "model=models.Sequential()\n",
    "model.add(layers.Dense(64, activation='relu', input_shape=(10000,)))\n",
    "model.add(layers.Dense(64, activation='relu'))\n",
    "model.add(layers.Dense(46, activation='softmax'))\n",
    "\n",
    "model.compile(optimizer='adam', loss='categorical_crossentropy', metrics=['accuracy'])\n",
    "\n",
    "y_train = one_hot_train_labels\n",
    "y_test = one_hot_test_labels \n",
    "\n",
    "history=model.fit(x_train, y_train, epochs=20, batch_size=512, validation_data=(x_test, y_test))"
   ]
  }
 ],
 "metadata": {
  "kernelspec": {
   "display_name": "Python 3.9.10 64-bit",
   "language": "python",
   "name": "python3"
  },
  "language_info": {
   "codemirror_mode": {
    "name": "ipython",
    "version": 3
   },
   "file_extension": ".py",
   "mimetype": "text/x-python",
   "name": "python",
   "nbconvert_exporter": "python",
   "pygments_lexer": "ipython3",
   "version": "3.9.10"
  },
  "orig_nbformat": 4,
  "vscode": {
   "interpreter": {
    "hash": "81794d4967e6c3204c66dcd87b604927b115b27c00565d3d43f05ba2f3a2cb0d"
   }
  }
 },
 "nbformat": 4,
 "nbformat_minor": 2
}
