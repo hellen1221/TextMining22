{
 "cells": [
  {
   "cell_type": "markdown",
   "metadata": {},
   "source": [
    "케라스 데이터셋 로이터 데이터의 일반적 딥러닝테스트 hidden layer의 수 4, 8,16,32,64 : 46개 클래스에 적용하기 위하여32개정도"
   ]
  },
  {
   "cell_type": "code",
   "execution_count": 1,
   "metadata": {},
   "outputs": [
    {
     "data": {
      "text/plain": [
       "(8982, 2246)"
      ]
     },
     "execution_count": 1,
     "metadata": {},
     "output_type": "execute_result"
    }
   ],
   "source": [
    "from keras.datasets import reuters\n",
    "(train_data, train_labels), (test_data, test_labels)=reuters.load_data(num_words=10000)\n",
    "\n",
    "len(train_data), len(test_data)\n",
    "\n",
    "#train_data[5]"
   ]
  },
  {
   "cell_type": "code",
   "execution_count": 2,
   "metadata": {},
   "outputs": [
    {
     "name": "stdout",
     "output_type": "stream",
     "text": [
      "? the u s agriculture department estimated canada's 1986 87 wheat crop at 31 85 mln tonnes vs 31 85 mln tonnes last month it estimated 1985 86 output at 24 25 mln tonnes vs 24 25 mln last month canadian 1986 87 coarse grain production is projected at 27 62 mln tonnes vs 27 62 mln tonnes last month production in 1985 86 is estimated at 24 95 mln tonnes vs 24 95 mln last month canadian wheat exports in 1986 87 are forecast at 19 00 mln tonnes vs 18 00 mln tonnes last month exports in 1985 86 are estimated at 17 71 mln tonnes vs 17 72 mln last month reuter 3\n"
     ]
    }
   ],
   "source": [
    "word_index=reuters.get_word_index()\n",
    "reverse_word_index=dict([(value, key) for (key, value) in word_index.items()])\n",
    "decoded_newswire=' '.join([reverse_word_index.get(i-3, '?') for i in train_data[5]])\n",
    "print(decoded_newswire)"
   ]
  },
  {
   "cell_type": "code",
   "execution_count": 3,
   "metadata": {},
   "outputs": [],
   "source": [
    "import numpy as np\n",
    "\n",
    "def vectorize_sequences(sequences, dimension=10000):\n",
    "\tresults=np.zeros((len(sequences), dimension))\n",
    "\tfor i, sequence in enumerate(sequences):\n",
    "\t\tresults[i, sequence]=1.\n",
    "\treturn results\n",
    "\n",
    "x_train = vectorize_sequences(train_data)\n",
    "x_test = vectorize_sequences(test_data)\n",
    "\n",
    "def to_one_hot(labels, dimension=46):\n",
    "\tresults=np.zeros((len(labels), dimension))\n",
    "\tfor i, label in enumerate(labels):\n",
    "\t\tresults[i, label] =1.\n",
    "\treturn results\n",
    "\n",
    "one_hot_train_labels=to_one_hot(train_labels)\n",
    "one_hot_test_labels=to_one_hot(test_labels)\n",
    "\n",
    "from keras.utils.np_utils import to_categorical\n",
    "\n",
    "one_hot_train_labels=to_categorical(train_labels)\n",
    "one_hot_test_labels=to_categorical(test_labels)"
   ]
  },
  {
   "cell_type": "code",
   "execution_count": 4,
   "metadata": {},
   "outputs": [
    {
     "name": "stdout",
     "output_type": "stream",
     "text": [
      "Epoch 1/20\n",
      "16/16 [==============================] - 1s 38ms/step - loss: 3.6630 - accuracy: 0.2195 - val_loss: 3.4187 - val_accuracy: 0.2970\n",
      "Epoch 2/20\n",
      "16/16 [==============================] - 0s 25ms/step - loss: 3.1679 - accuracy: 0.3312 - val_loss: 2.9324 - val_accuracy: 0.3590\n",
      "Epoch 3/20\n",
      "16/16 [==============================] - 0s 27ms/step - loss: 2.6491 - accuracy: 0.3802 - val_loss: 2.4838 - val_accuracy: 0.3890\n",
      "Epoch 4/20\n",
      "16/16 [==============================] - 0s 25ms/step - loss: 2.2221 - accuracy: 0.4128 - val_loss: 2.1624 - val_accuracy: 0.4070\n",
      "Epoch 5/20\n",
      "16/16 [==============================] - 0s 28ms/step - loss: 1.8930 - accuracy: 0.4498 - val_loss: 1.8987 - val_accuracy: 0.5700\n",
      "Epoch 6/20\n",
      "16/16 [==============================] - 0s 26ms/step - loss: 1.6035 - accuracy: 0.6295 - val_loss: 1.6984 - val_accuracy: 0.5880\n",
      "Epoch 7/20\n",
      "16/16 [==============================] - 0s 25ms/step - loss: 1.4076 - accuracy: 0.6452 - val_loss: 1.6006 - val_accuracy: 0.6080\n",
      "Epoch 8/20\n",
      "16/16 [==============================] - 0s 25ms/step - loss: 1.2806 - accuracy: 0.6691 - val_loss: 1.5393 - val_accuracy: 0.6250\n",
      "Epoch 9/20\n",
      "16/16 [==============================] - 0s 24ms/step - loss: 1.1860 - accuracy: 0.6943 - val_loss: 1.5079 - val_accuracy: 0.6440\n",
      "Epoch 10/20\n",
      "16/16 [==============================] - 0s 25ms/step - loss: 1.1100 - accuracy: 0.7088 - val_loss: 1.4821 - val_accuracy: 0.6480\n",
      "Epoch 11/20\n",
      "16/16 [==============================] - 0s 27ms/step - loss: 1.0450 - accuracy: 0.7226 - val_loss: 1.4712 - val_accuracy: 0.6520\n",
      "Epoch 12/20\n",
      "16/16 [==============================] - 0s 26ms/step - loss: 0.9867 - accuracy: 0.7314 - val_loss: 1.4766 - val_accuracy: 0.6580\n",
      "Epoch 13/20\n",
      "16/16 [==============================] - 0s 27ms/step - loss: 0.9353 - accuracy: 0.7429 - val_loss: 1.4672 - val_accuracy: 0.6600\n",
      "Epoch 14/20\n",
      "16/16 [==============================] - 0s 25ms/step - loss: 0.8881 - accuracy: 0.7580 - val_loss: 1.4684 - val_accuracy: 0.6640\n",
      "Epoch 15/20\n",
      "16/16 [==============================] - 0s 25ms/step - loss: 0.8459 - accuracy: 0.7750 - val_loss: 1.4719 - val_accuracy: 0.6770\n",
      "Epoch 16/20\n",
      "16/16 [==============================] - 0s 26ms/step - loss: 0.8071 - accuracy: 0.7875 - val_loss: 1.4788 - val_accuracy: 0.6820\n",
      "Epoch 17/20\n",
      "16/16 [==============================] - 0s 25ms/step - loss: 0.7713 - accuracy: 0.7944 - val_loss: 1.4834 - val_accuracy: 0.6750\n",
      "Epoch 18/20\n",
      "16/16 [==============================] - 0s 29ms/step - loss: 0.7391 - accuracy: 0.8023 - val_loss: 1.4858 - val_accuracy: 0.6820\n",
      "Epoch 19/20\n",
      "16/16 [==============================] - 0s 25ms/step - loss: 0.7103 - accuracy: 0.8079 - val_loss: 1.5040 - val_accuracy: 0.6880\n",
      "Epoch 20/20\n",
      "16/16 [==============================] - 0s 25ms/step - loss: 0.6846 - accuracy: 0.8106 - val_loss: 1.5100 - val_accuracy: 0.6790\n"
     ]
    }
   ],
   "source": [
    "from keras import models\n",
    "from keras import layers\n",
    "\n",
    "model=models.Sequential()\n",
    "model.add(layers.Dense(64, activation='relu', input_shape=(10000,)))\n",
    "model.add(layers.Dense(4, activation='relu'))\n",
    "model.add(layers.Dense(46, activation='softmax'))\n",
    "\n",
    "model.compile(optimizer='adam', loss='categorical_crossentropy', metrics=['accuracy'])\n",
    "\n",
    "x_val=x_train[:1000]\n",
    "partial_x_train=x_train[1000:]\n",
    "\n",
    "y_val=one_hot_train_labels[:1000]\n",
    "partial_y_train=one_hot_train_labels[1000:]\n",
    "\n",
    "history=model.fit(partial_x_train, partial_y_train, epochs=20, batch_size=512, validation_data=(x_val, y_val))"
   ]
  },
  {
   "cell_type": "code",
   "execution_count": 5,
   "metadata": {},
   "outputs": [
    {
     "name": "stderr",
     "output_type": "stream",
     "text": [
      "C:\\Users\\PC\\AppData\\Local\\Temp\\ipykernel_2724\\2841500642.py:9: UserWarning: color is redundantly defined by the 'color' keyword argument and the fmt string \"bo\" (-> color='b'). The keyword argument will take precedence.\n",
      "  plt.plot(epochs, loss, 'bo', label='Training loss', color='red')\n",
      "C:\\Users\\PC\\AppData\\Local\\Temp\\ipykernel_2724\\2841500642.py:10: UserWarning: color is redundantly defined by the 'color' keyword argument and the fmt string \"b\" (-> color=(0.0, 0.0, 1.0, 1)). The keyword argument will take precedence.\n",
      "  plt.plot(epochs, val_loss, 'b', label='Validation loss', color='blue')\n"
     ]
    },
    {
     "data": {
      "image/png": "[encoded data removed]",
      "text/plain": [
       "<Figure size 432x288 with 1 Axes>"
      ]
     },
     "metadata": {
      "needs_background": "light"
     },
     "output_type": "display_data"
    },
    {
     "name": "stderr",
     "output_type": "stream",
     "text": [
      "C:\\Users\\PC\\AppData\\Local\\Temp\\ipykernel_2724\\2841500642.py:23: UserWarning: color is redundantly defined by the 'color' keyword argument and the fmt string \"bo\" (-> color='b'). The keyword argument will take precedence.\n",
      "  plt.plot(epochs, acc, 'bo', label='Training acc', color='grey')\n",
      "C:\\Users\\PC\\AppData\\Local\\Temp\\ipykernel_2724\\2841500642.py:24: UserWarning: color is redundantly defined by the 'color' keyword argument and the fmt string \"b\" (-> color=(0.0, 0.0, 1.0, 1)). The keyword argument will take precedence.\n",
      "  plt.plot(epochs, val_acc, 'b', label='Validation acc', color='purple')\n"
     ]
    },
    {
     "data": {
      "image/png": "[encoded data removed]",
      "text/plain": [
       "<Figure size 432x288 with 1 Axes>"
      ]
     },
     "metadata": {
      "needs_background": "light"
     },
     "output_type": "display_data"
    }
   ],
   "source": [
    "import matplotlib.pyplot as plt\n",
    "\n",
    "\n",
    "loss=history.history['loss']\n",
    "val_loss=history.history['val_loss']\n",
    "\n",
    "epochs=range(1, len(loss)+1)\n",
    "\n",
    "plt.plot(epochs, loss, 'bo', label='Training loss', color='red')\n",
    "plt.plot(epochs, val_loss, 'b', label='Validation loss', color='blue')\n",
    "plt.title('Training and validation loss')\n",
    "plt.xlabel('Epochs')\n",
    "plt.ylabel('Loss')\n",
    "plt.grid()\n",
    "plt.legend()\n",
    "plt.show()\n",
    "\n",
    "plt.clf()\n",
    "\n",
    "acc=history.history['accuracy']\n",
    "val_acc=history.history['val_accuracy']\n",
    "\n",
    "plt.plot(epochs, acc, 'bo', label='Training acc', color='grey')\n",
    "plt.plot(epochs, val_acc, 'b', label='Validation acc', color='purple')\n",
    "plt.title('Training and validation accuracy')\n",
    "plt.xlabel('Epochs')\n",
    "plt.ylabel('Accuracy')\n",
    "plt.grid()\n",
    "plt.legend()\n",
    "plt.show()"
   ]
  },
  {
   "cell_type": "code",
   "execution_count": 7,
   "metadata": {},
   "outputs": [
    {
     "name": "stdout",
     "output_type": "stream",
     "text": [
      "Epoch 1/20\n",
      "16/16 [==============================] - 1s 36ms/step - loss: 3.6727 - accuracy: 0.0224 - val_loss: 3.4747 - val_accuracy: 0.1790\n",
      "Epoch 2/20\n",
      "16/16 [==============================] - 0s 24ms/step - loss: 3.2555 - accuracy: 0.3509 - val_loss: 3.0164 - val_accuracy: 0.4020\n",
      "Epoch 3/20\n",
      "16/16 [==============================] - 0s 24ms/step - loss: 2.7033 - accuracy: 0.4330 - val_loss: 2.4537 - val_accuracy: 0.4360\n",
      "Epoch 4/20\n",
      "16/16 [==============================] - 1s 41ms/step - loss: 2.1147 - accuracy: 0.4826 - val_loss: 1.9649 - val_accuracy: 0.5360\n",
      "Epoch 5/20\n",
      "16/16 [==============================] - 0s 25ms/step - loss: 1.6623 - accuracy: 0.6382 - val_loss: 1.6391 - val_accuracy: 0.6590\n",
      "Epoch 6/20\n",
      "16/16 [==============================] - 0s 27ms/step - loss: 1.3439 - accuracy: 0.7170 - val_loss: 1.4318 - val_accuracy: 0.6970\n",
      "Epoch 7/20\n",
      "16/16 [==============================] - 0s 25ms/step - loss: 1.1282 - accuracy: 0.7571 - val_loss: 1.3161 - val_accuracy: 0.7180\n",
      "Epoch 8/20\n",
      "16/16 [==============================] - 0s 25ms/step - loss: 0.9685 - accuracy: 0.7828 - val_loss: 1.2334 - val_accuracy: 0.7340\n",
      "Epoch 9/20\n",
      "16/16 [==============================] - 0s 25ms/step - loss: 0.8436 - accuracy: 0.8047 - val_loss: 1.1910 - val_accuracy: 0.7460\n",
      "Epoch 10/20\n",
      "16/16 [==============================] - 0s 26ms/step - loss: 0.7501 - accuracy: 0.8289 - val_loss: 1.1720 - val_accuracy: 0.7510\n",
      "Epoch 11/20\n",
      "16/16 [==============================] - 0s 26ms/step - loss: 0.6731 - accuracy: 0.8474 - val_loss: 1.1657 - val_accuracy: 0.7550\n",
      "Epoch 12/20\n",
      "16/16 [==============================] - 0s 25ms/step - loss: 0.6090 - accuracy: 0.8593 - val_loss: 1.1562 - val_accuracy: 0.7670\n",
      "Epoch 13/20\n",
      "16/16 [==============================] - 0s 26ms/step - loss: 0.5537 - accuracy: 0.8705 - val_loss: 1.1575 - val_accuracy: 0.7710\n",
      "Epoch 14/20\n",
      "16/16 [==============================] - 0s 25ms/step - loss: 0.5057 - accuracy: 0.8786 - val_loss: 1.1600 - val_accuracy: 0.7710\n",
      "Epoch 15/20\n",
      "16/16 [==============================] - 0s 24ms/step - loss: 0.4630 - accuracy: 0.8871 - val_loss: 1.1856 - val_accuracy: 0.7620\n",
      "Epoch 16/20\n",
      "16/16 [==============================] - 0s 26ms/step - loss: 0.4280 - accuracy: 0.8938 - val_loss: 1.1896 - val_accuracy: 0.7690\n",
      "Epoch 17/20\n",
      "16/16 [==============================] - 0s 25ms/step - loss: 0.3947 - accuracy: 0.9005 - val_loss: 1.2064 - val_accuracy: 0.7650\n",
      "Epoch 18/20\n",
      "16/16 [==============================] - 0s 30ms/step - loss: 0.3650 - accuracy: 0.9080 - val_loss: 1.2056 - val_accuracy: 0.7690\n",
      "Epoch 19/20\n",
      "16/16 [==============================] - 0s 26ms/step - loss: 0.3396 - accuracy: 0.9163 - val_loss: 1.2147 - val_accuracy: 0.7710\n",
      "Epoch 20/20\n",
      "16/16 [==============================] - 0s 25ms/step - loss: 0.3175 - accuracy: 0.9207 - val_loss: 1.2417 - val_accuracy: 0.7640\n"
     ]
    }
   ],
   "source": [
    "from keras import models\n",
    "from keras import layers\n",
    "\n",
    "model=models.Sequential()\n",
    "model.add(layers.Dense(64, activation='relu', input_shape=(10000,)))\n",
    "model.add(layers.Dense(8, activation='relu'))\n",
    "model.add(layers.Dense(46, activation='softmax'))\n",
    "\n",
    "model.compile(optimizer='adam', loss='categorical_crossentropy', metrics=['accuracy'])\n",
    "\n",
    "x_val=x_train[:1000]\n",
    "partial_x_train=x_train[1000:]\n",
    "\n",
    "y_val=one_hot_train_labels[:1000]\n",
    "partial_y_train=one_hot_train_labels[1000:]\n",
    "\n",
    "history=model.fit(partial_x_train, partial_y_train, epochs=20, batch_size=512, validation_data=(x_val, y_val))"
   ]
  },
  {
   "cell_type": "code",
   "execution_count": 9,
   "metadata": {},
   "outputs": [
    {
     "name": "stdout",
     "output_type": "stream",
     "text": [
      "Epoch 1/20\n",
      "16/16 [==============================] - 1s 36ms/step - loss: 3.6412 - accuracy: 0.2210 - val_loss: 3.3420 - val_accuracy: 0.3590\n",
      "Epoch 2/20\n",
      "16/16 [==============================] - 0s 26ms/step - loss: 2.9357 - accuracy: 0.4975 - val_loss: 2.4931 - val_accuracy: 0.6380\n",
      "Epoch 3/20\n",
      "16/16 [==============================] - 0s 24ms/step - loss: 2.0466 - accuracy: 0.6833 - val_loss: 1.7448 - val_accuracy: 0.6840\n",
      "Epoch 4/20\n",
      "16/16 [==============================] - 0s 29ms/step - loss: 1.4270 - accuracy: 0.7283 - val_loss: 1.3840 - val_accuracy: 0.7170\n",
      "Epoch 5/20\n",
      "16/16 [==============================] - 0s 27ms/step - loss: 1.1166 - accuracy: 0.7702 - val_loss: 1.2298 - val_accuracy: 0.7460\n",
      "Epoch 6/20\n",
      "16/16 [==============================] - 0s 30ms/step - loss: 0.9279 - accuracy: 0.8103 - val_loss: 1.1404 - val_accuracy: 0.7690\n",
      "Epoch 7/20\n",
      "16/16 [==============================] - 0s 26ms/step - loss: 0.7867 - accuracy: 0.8401 - val_loss: 1.0811 - val_accuracy: 0.7810\n",
      "Epoch 8/20\n",
      "16/16 [==============================] - 0s 24ms/step - loss: 0.6721 - accuracy: 0.8638 - val_loss: 1.0428 - val_accuracy: 0.7880\n",
      "Epoch 9/20\n",
      "16/16 [==============================] - 0s 26ms/step - loss: 0.5759 - accuracy: 0.8825 - val_loss: 1.0153 - val_accuracy: 0.7890\n",
      "Epoch 10/20\n",
      "16/16 [==============================] - 0s 24ms/step - loss: 0.4926 - accuracy: 0.8970 - val_loss: 0.9926 - val_accuracy: 0.7980\n",
      "Epoch 11/20\n",
      "16/16 [==============================] - 0s 28ms/step - loss: 0.4230 - accuracy: 0.9128 - val_loss: 0.9857 - val_accuracy: 0.7930\n",
      "Epoch 12/20\n",
      "16/16 [==============================] - 0s 25ms/step - loss: 0.3638 - accuracy: 0.9233 - val_loss: 0.9840 - val_accuracy: 0.7940\n",
      "Epoch 13/20\n",
      "16/16 [==============================] - 0s 25ms/step - loss: 0.3148 - accuracy: 0.9310 - val_loss: 0.9923 - val_accuracy: 0.7950\n",
      "Epoch 14/20\n",
      "16/16 [==============================] - 0s 26ms/step - loss: 0.2778 - accuracy: 0.9375 - val_loss: 0.9824 - val_accuracy: 0.8000\n",
      "Epoch 15/20\n",
      "16/16 [==============================] - 0s 25ms/step - loss: 0.2413 - accuracy: 0.9456 - val_loss: 0.9995 - val_accuracy: 0.8060\n",
      "Epoch 16/20\n",
      "16/16 [==============================] - 0s 30ms/step - loss: 0.2171 - accuracy: 0.9518 - val_loss: 1.0065 - val_accuracy: 0.7950\n",
      "Epoch 17/20\n",
      "16/16 [==============================] - 0s 24ms/step - loss: 0.1925 - accuracy: 0.9523 - val_loss: 1.0179 - val_accuracy: 0.7990\n",
      "Epoch 18/20\n",
      "16/16 [==============================] - 0s 27ms/step - loss: 0.1743 - accuracy: 0.9569 - val_loss: 1.0315 - val_accuracy: 0.8030\n",
      "Epoch 19/20\n",
      "16/16 [==============================] - 0s 25ms/step - loss: 0.1625 - accuracy: 0.9569 - val_loss: 1.0469 - val_accuracy: 0.8010\n",
      "Epoch 20/20\n",
      "16/16 [==============================] - 0s 24ms/step - loss: 0.1483 - accuracy: 0.9575 - val_loss: 1.0542 - val_accuracy: 0.8000\n"
     ]
    }
   ],
   "source": [
    "from keras import models\n",
    "from keras import layers\n",
    "\n",
    "model=models.Sequential()\n",
    "model.add(layers.Dense(64, activation='relu', input_shape=(10000,)))\n",
    "model.add(layers.Dense(16, activation='relu'))\n",
    "model.add(layers.Dense(46, activation='softmax'))\n",
    "\n",
    "model.compile(optimizer='adam', loss='categorical_crossentropy', metrics=['accuracy'])\n",
    "\n",
    "x_val=x_train[:1000]\n",
    "partial_x_train=x_train[1000:]\n",
    "\n",
    "y_val=one_hot_train_labels[:1000]\n",
    "partial_y_train=one_hot_train_labels[1000:]\n",
    "\n",
    "history=model.fit(partial_x_train, partial_y_train, epochs=20, batch_size=512, validation_data=(x_val, y_val))"
   ]
  },
  {
   "cell_type": "code",
   "execution_count": 10,
   "metadata": {},
   "outputs": [
    {
     "name": "stdout",
     "output_type": "stream",
     "text": [
      "Epoch 1/20\n",
      "16/16 [==============================] - 1s 37ms/step - loss: 3.3318 - accuracy: 0.4065 - val_loss: 2.7285 - val_accuracy: 0.5060\n",
      "Epoch 2/20\n",
      "16/16 [==============================] - 0s 27ms/step - loss: 2.2365 - accuracy: 0.5803 - val_loss: 1.8741 - val_accuracy: 0.6140\n",
      "Epoch 3/20\n",
      "16/16 [==============================] - 0s 25ms/step - loss: 1.5494 - accuracy: 0.6822 - val_loss: 1.4443 - val_accuracy: 0.6830\n",
      "Epoch 4/20\n",
      "16/16 [==============================] - 0s 26ms/step - loss: 1.1806 - accuracy: 0.7459 - val_loss: 1.2425 - val_accuracy: 0.7270\n",
      "Epoch 5/20\n",
      "16/16 [==============================] - 0s 25ms/step - loss: 0.9512 - accuracy: 0.7899 - val_loss: 1.1266 - val_accuracy: 0.7590\n",
      "Epoch 6/20\n",
      "16/16 [==============================] - 0s 25ms/step - loss: 0.7772 - accuracy: 0.8294 - val_loss: 1.0506 - val_accuracy: 0.7750\n",
      "Epoch 7/20\n",
      "16/16 [==============================] - 0s 29ms/step - loss: 0.6380 - accuracy: 0.8639 - val_loss: 0.9900 - val_accuracy: 0.7960\n",
      "Epoch 8/20\n",
      "16/16 [==============================] - 0s 25ms/step - loss: 0.5201 - accuracy: 0.8964 - val_loss: 0.9485 - val_accuracy: 0.8010\n",
      "Epoch 9/20\n",
      "16/16 [==============================] - 0s 28ms/step - loss: 0.4248 - accuracy: 0.9158 - val_loss: 0.9209 - val_accuracy: 0.8140\n",
      "Epoch 10/20\n",
      "16/16 [==============================] - 0s 26ms/step - loss: 0.3490 - accuracy: 0.9277 - val_loss: 0.9136 - val_accuracy: 0.8040\n",
      "Epoch 11/20\n",
      "16/16 [==============================] - 0s 25ms/step - loss: 0.2890 - accuracy: 0.9376 - val_loss: 0.8999 - val_accuracy: 0.8080\n",
      "Epoch 12/20\n",
      "16/16 [==============================] - 0s 26ms/step - loss: 0.2432 - accuracy: 0.9459 - val_loss: 0.9084 - val_accuracy: 0.8150\n",
      "Epoch 13/20\n",
      "16/16 [==============================] - 0s 24ms/step - loss: 0.2076 - accuracy: 0.9504 - val_loss: 0.9134 - val_accuracy: 0.8100\n",
      "Epoch 14/20\n",
      "16/16 [==============================] - 0s 27ms/step - loss: 0.1830 - accuracy: 0.9524 - val_loss: 0.9310 - val_accuracy: 0.8090\n",
      "Epoch 15/20\n",
      "16/16 [==============================] - 0s 25ms/step - loss: 0.1619 - accuracy: 0.9568 - val_loss: 0.9280 - val_accuracy: 0.8180\n",
      "Epoch 16/20\n",
      "16/16 [==============================] - 0s 26ms/step - loss: 0.1455 - accuracy: 0.9584 - val_loss: 0.9380 - val_accuracy: 0.8170\n",
      "Epoch 17/20\n",
      "16/16 [==============================] - 0s 26ms/step - loss: 0.1348 - accuracy: 0.9604 - val_loss: 0.9519 - val_accuracy: 0.8090\n",
      "Epoch 18/20\n",
      "16/16 [==============================] - 0s 25ms/step - loss: 0.1247 - accuracy: 0.9593 - val_loss: 0.9681 - val_accuracy: 0.8170\n",
      "Epoch 19/20\n",
      "16/16 [==============================] - 0s 28ms/step - loss: 0.1135 - accuracy: 0.9594 - val_loss: 0.9794 - val_accuracy: 0.8140\n",
      "Epoch 20/20\n",
      "16/16 [==============================] - 0s 26ms/step - loss: 0.1125 - accuracy: 0.9608 - val_loss: 0.9849 - val_accuracy: 0.8130\n"
     ]
    }
   ],
   "source": [
    "from keras import models\n",
    "from keras import layers\n",
    "\n",
    "model=models.Sequential()\n",
    "model.add(layers.Dense(64, activation='relu', input_shape=(10000,)))\n",
    "model.add(layers.Dense(32, activation='relu'))\n",
    "model.add(layers.Dense(46, activation='softmax'))\n",
    "\n",
    "model.compile(optimizer='adam', loss='categorical_crossentropy', metrics=['accuracy'])\n",
    "\n",
    "x_val=x_train[:1000]\n",
    "partial_x_train=x_train[1000:]\n",
    "\n",
    "y_val=one_hot_train_labels[:1000]\n",
    "partial_y_train=one_hot_train_labels[1000:]\n",
    "\n",
    "history=model.fit(partial_x_train, partial_y_train, epochs=20, batch_size=512, validation_data=(x_val, y_val))"
   ]
  },
  {
   "cell_type": "code",
   "execution_count": 11,
   "metadata": {},
   "outputs": [
    {
     "name": "stdout",
     "output_type": "stream",
     "text": [
      "Epoch 1/20\n",
      "16/16 [==============================] - 1s 39ms/step - loss: 3.2865 - accuracy: 0.4226 - val_loss: 2.5775 - val_accuracy: 0.5520\n",
      "Epoch 2/20\n",
      "16/16 [==============================] - 0s 26ms/step - loss: 2.0317 - accuracy: 0.6133 - val_loss: 1.6398 - val_accuracy: 0.6350\n",
      "Epoch 3/20\n",
      "16/16 [==============================] - 0s 26ms/step - loss: 1.3669 - accuracy: 0.7052 - val_loss: 1.2926 - val_accuracy: 0.7070\n",
      "Epoch 4/20\n",
      "16/16 [==============================] - 0s 29ms/step - loss: 1.0429 - accuracy: 0.7767 - val_loss: 1.1238 - val_accuracy: 0.7630\n",
      "Epoch 5/20\n",
      "16/16 [==============================] - 0s 27ms/step - loss: 0.8193 - accuracy: 0.8274 - val_loss: 1.0197 - val_accuracy: 0.7900\n",
      "Epoch 6/20\n",
      "16/16 [==============================] - 0s 26ms/step - loss: 0.6455 - accuracy: 0.8637 - val_loss: 0.9563 - val_accuracy: 0.8030\n",
      "Epoch 7/20\n",
      "16/16 [==============================] - 0s 25ms/step - loss: 0.5117 - accuracy: 0.8903 - val_loss: 0.9179 - val_accuracy: 0.8100\n",
      "Epoch 8/20\n",
      "16/16 [==============================] - 0s 27ms/step - loss: 0.4050 - accuracy: 0.9167 - val_loss: 0.9039 - val_accuracy: 0.8110\n",
      "Epoch 9/20\n",
      "16/16 [==============================] - 0s 25ms/step - loss: 0.3263 - accuracy: 0.9313 - val_loss: 0.8842 - val_accuracy: 0.8100\n",
      "Epoch 10/20\n",
      "16/16 [==============================] - 0s 26ms/step - loss: 0.2637 - accuracy: 0.9417 - val_loss: 0.8732 - val_accuracy: 0.8160\n",
      "Epoch 11/20\n",
      "16/16 [==============================] - 0s 25ms/step - loss: 0.2180 - accuracy: 0.9484 - val_loss: 0.8856 - val_accuracy: 0.8200\n",
      "Epoch 12/20\n",
      "16/16 [==============================] - 0s 25ms/step - loss: 0.1857 - accuracy: 0.9518 - val_loss: 0.8961 - val_accuracy: 0.8150\n",
      "Epoch 13/20\n",
      "16/16 [==============================] - 0s 27ms/step - loss: 0.1614 - accuracy: 0.9574 - val_loss: 0.9093 - val_accuracy: 0.8160\n",
      "Epoch 14/20\n",
      "16/16 [==============================] - 0s 25ms/step - loss: 0.1423 - accuracy: 0.9580 - val_loss: 0.9212 - val_accuracy: 0.8120\n",
      "Epoch 15/20\n",
      "16/16 [==============================] - 0s 26ms/step - loss: 0.1325 - accuracy: 0.9575 - val_loss: 0.9259 - val_accuracy: 0.8090\n",
      "Epoch 16/20\n",
      "16/16 [==============================] - 0s 26ms/step - loss: 0.1218 - accuracy: 0.9589 - val_loss: 0.9490 - val_accuracy: 0.8120\n",
      "Epoch 17/20\n",
      "16/16 [==============================] - 0s 25ms/step - loss: 0.1130 - accuracy: 0.9604 - val_loss: 0.9631 - val_accuracy: 0.8110\n",
      "Epoch 18/20\n",
      "16/16 [==============================] - 0s 26ms/step - loss: 0.1086 - accuracy: 0.9603 - val_loss: 0.9740 - val_accuracy: 0.8050\n",
      "Epoch 19/20\n",
      "16/16 [==============================] - 0s 26ms/step - loss: 0.1008 - accuracy: 0.9625 - val_loss: 0.9818 - val_accuracy: 0.8100\n",
      "Epoch 20/20\n",
      "16/16 [==============================] - 0s 27ms/step - loss: 0.1052 - accuracy: 0.9599 - val_loss: 0.9980 - val_accuracy: 0.8100\n"
     ]
    }
   ],
   "source": [
    "from keras import models\n",
    "from keras import layers\n",
    "\n",
    "model=models.Sequential()\n",
    "model.add(layers.Dense(64, activation='relu', input_shape=(10000,)))\n",
    "model.add(layers.Dense(64, activation='relu'))\n",
    "model.add(layers.Dense(46, activation='softmax'))\n",
    "\n",
    "model.compile(optimizer='adam', loss='categorical_crossentropy', metrics=['accuracy'])\n",
    "\n",
    "x_val=x_train[:1000]\n",
    "partial_x_train=x_train[1000:]\n",
    "\n",
    "y_val=one_hot_train_labels[:1000]\n",
    "partial_y_train=one_hot_train_labels[1000:]\n",
    "\n",
    "history=model.fit(partial_x_train, partial_y_train, epochs=20, batch_size=512, validation_data=(x_val, y_val))"
   ]
  }
 ],
 "metadata": {
  "kernelspec": {
   "display_name": "Python 3.9.10 64-bit",
   "language": "python",
   "name": "python3"
  },
  "language_info": {
   "codemirror_mode": {
    "name": "ipython",
    "version": 3
   },
   "file_extension": ".py",
   "mimetype": "text/x-python",
   "name": "python",
   "nbconvert_exporter": "python",
   "pygments_lexer": "ipython3",
   "version": "3.9.10"
  },
  "orig_nbformat": 4,
  "vscode": {
   "interpreter": {
    "hash": "81794d4967e6c3204c66dcd87b604927b115b27c00565d3d43f05ba2f3a2cb0d"
   }
  }
 },
 "nbformat": 4,
 "nbformat_minor": 2
}
