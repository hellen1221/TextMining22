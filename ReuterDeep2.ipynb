{
 "cells": [
  {
   "cell_type": "markdown",
   "metadata": {},
   "source": [
    "케라스 데이터셋 로이터 데이터의 일반적 딥러닝테스트 (더 깊게 테스트) ReuterDeep1.ipynb 에서 ReuterDeep2.ipynb"
   ]
  },
  {
   "cell_type": "code",
   "execution_count": 15,
   "metadata": {},
   "outputs": [
    {
     "data": {
      "text/plain": [
       "(8982, 2246)"
      ]
     },
     "execution_count": 15,
     "metadata": {},
     "output_type": "execute_result"
    }
   ],
   "source": [
    "from keras.datasets import reuters\n",
    "(train_data, train_labels), (test_data, test_labels)=reuters.load_data(num_words=10000)\n",
    "\n",
    "len(train_data), len(test_data)\n",
    "\n",
    "#train_data[5]"
   ]
  },
  {
   "cell_type": "code",
   "execution_count": 16,
   "metadata": {},
   "outputs": [
    {
     "name": "stdout",
     "output_type": "stream",
     "text": [
      "? the u s agriculture department estimated canada's 1986 87 wheat crop at 31 85 mln tonnes vs 31 85 mln tonnes last month it estimated 1985 86 output at 24 25 mln tonnes vs 24 25 mln last month canadian 1986 87 coarse grain production is projected at 27 62 mln tonnes vs 27 62 mln tonnes last month production in 1985 86 is estimated at 24 95 mln tonnes vs 24 95 mln last month canadian wheat exports in 1986 87 are forecast at 19 00 mln tonnes vs 18 00 mln tonnes last month exports in 1985 86 are estimated at 17 71 mln tonnes vs 17 72 mln last month reuter 3\n"
     ]
    }
   ],
   "source": [
    "word_index=reuters.get_word_index()\n",
    "reverse_word_index=dict([(value, key) for (key, value) in word_index.items()])\n",
    "decoded_newswire=' '.join([reverse_word_index.get(i-3, '?') for i in train_data[5]])\n",
    "print(decoded_newswire)"
   ]
  },
  {
   "cell_type": "code",
   "execution_count": 17,
   "metadata": {},
   "outputs": [],
   "source": [
    "import numpy as np\n",
    "\n",
    "def vectorize_sequences(sequences, dimension=10000):\n",
    "\tresults=np.zeros((len(sequences), dimension))\n",
    "\tfor i, sequence in enumerate(sequences):\n",
    "\t\tresults[i, sequence]=1.\n",
    "\treturn results\n",
    "\n",
    "x_train = vectorize_sequences(train_data)\n",
    "x_test = vectorize_sequences(test_data)\n",
    "\n",
    "def to_one_hot(labels, dimension=46):\n",
    "\tresults=np.zeros((len(labels), dimension))\n",
    "\tfor i, label in enumerate(labels):\n",
    "\t\tresults[i, label] =1.\n",
    "\treturn results\n",
    "\n",
    "one_hot_train_labels=to_one_hot(train_labels)\n",
    "one_hot_test_labels=to_one_hot(test_labels)\n",
    "\n",
    "from keras.utils.np_utils import to_categorical\n",
    "\n",
    "one_hot_train_labels=to_categorical(train_labels)\n",
    "one_hot_test_labels=to_categorical(test_labels)"
   ]
  },
  {
   "cell_type": "code",
   "execution_count": 18,
   "metadata": {},
   "outputs": [
    {
     "name": "stdout",
     "output_type": "stream",
     "text": [
      "Epoch 1/15\n",
      "16/16 [==============================] - 1s 45ms/step - loss: 3.3922 - accuracy: 0.3127 - val_loss: 2.7328 - val_accuracy: 0.4690\n",
      "Epoch 2/15\n",
      "16/16 [==============================] - 0s 25ms/step - loss: 2.1905 - accuracy: 0.5268 - val_loss: 1.7771 - val_accuracy: 0.5490\n",
      "Epoch 3/15\n",
      "16/16 [==============================] - 0s 25ms/step - loss: 1.5939 - accuracy: 0.6264 - val_loss: 1.4982 - val_accuracy: 0.6790\n",
      "Epoch 4/15\n",
      "16/16 [==============================] - 0s 27ms/step - loss: 1.2655 - accuracy: 0.7214 - val_loss: 1.2966 - val_accuracy: 0.7230\n",
      "Epoch 5/15\n",
      "16/16 [==============================] - 0s 26ms/step - loss: 0.9941 - accuracy: 0.7672 - val_loss: 1.1693 - val_accuracy: 0.7380\n",
      "Epoch 6/15\n",
      "16/16 [==============================] - 0s 27ms/step - loss: 0.7760 - accuracy: 0.8140 - val_loss: 1.1156 - val_accuracy: 0.7550\n",
      "Epoch 7/15\n",
      "16/16 [==============================] - 0s 25ms/step - loss: 0.5872 - accuracy: 0.8613 - val_loss: 1.1076 - val_accuracy: 0.7720\n",
      "Epoch 8/15\n",
      "16/16 [==============================] - 0s 26ms/step - loss: 0.4354 - accuracy: 0.9063 - val_loss: 1.0891 - val_accuracy: 0.8010\n",
      "Epoch 9/15\n",
      "16/16 [==============================] - 0s 27ms/step - loss: 0.3148 - accuracy: 0.9286 - val_loss: 1.1273 - val_accuracy: 0.7850\n",
      "Epoch 10/15\n",
      "16/16 [==============================] - 0s 25ms/step - loss: 0.2443 - accuracy: 0.9406 - val_loss: 1.1916 - val_accuracy: 0.8000\n",
      "Epoch 11/15\n",
      "16/16 [==============================] - 0s 29ms/step - loss: 0.1850 - accuracy: 0.9534 - val_loss: 1.2357 - val_accuracy: 0.7840\n",
      "Epoch 12/15\n",
      "16/16 [==============================] - 0s 25ms/step - loss: 0.1641 - accuracy: 0.9565 - val_loss: 1.2638 - val_accuracy: 0.7860\n",
      "Epoch 13/15\n",
      "16/16 [==============================] - 0s 27ms/step - loss: 0.1582 - accuracy: 0.9585 - val_loss: 1.2854 - val_accuracy: 0.7820\n",
      "Epoch 14/15\n",
      "16/16 [==============================] - 0s 25ms/step - loss: 0.1413 - accuracy: 0.9593 - val_loss: 1.3203 - val_accuracy: 0.7800\n",
      "Epoch 15/15\n",
      "16/16 [==============================] - 0s 25ms/step - loss: 0.1228 - accuracy: 0.9607 - val_loss: 1.3385 - val_accuracy: 0.7850\n"
     ]
    }
   ],
   "source": [
    "from keras import models\n",
    "from keras import layers\n",
    "\n",
    "model=models.Sequential()\n",
    "model.add(layers.Dense(64, activation='relu', input_shape=(10000,)))\n",
    "model.add(layers.Dense(64, activation='relu'))\n",
    "model.add(layers.Dense(64, activation='relu'))\n",
    "model.add(layers.Dense(64, activation='relu'))\n",
    "model.add(layers.Dense(46, activation='softmax'))\n",
    "\n",
    "model.compile(optimizer='adam', loss='categorical_crossentropy', metrics=['accuracy'])\n",
    "\n",
    "x_val=x_train[:1000]\n",
    "partial_x_train=x_train[1000:]\n",
    "\n",
    "y_val=one_hot_train_labels[:1000]\n",
    "partial_y_train=one_hot_train_labels[1000:]\n",
    "\n",
    "history=model.fit(partial_x_train, partial_y_train, epochs=15, batch_size=512, validation_data=(x_val, y_val))"
   ]
  },
  {
   "cell_type": "code",
   "execution_count": 19,
   "metadata": {},
   "outputs": [
    {
     "name": "stderr",
     "output_type": "stream",
     "text": [
      "C:\\Users\\PC\\AppData\\Local\\Temp\\ipykernel_1152\\2841500642.py:9: UserWarning: color is redundantly defined by the 'color' keyword argument and the fmt string \"bo\" (-> color='b'). The keyword argument will take precedence.\n",
      "  plt.plot(epochs, loss, 'bo', label='Training loss', color='red')\n",
      "C:\\Users\\PC\\AppData\\Local\\Temp\\ipykernel_1152\\2841500642.py:10: UserWarning: color is redundantly defined by the 'color' keyword argument and the fmt string \"b\" (-> color=(0.0, 0.0, 1.0, 1)). The keyword argument will take precedence.\n",
      "  plt.plot(epochs, val_loss, 'b', label='Validation loss', color='blue')\n"
     ]
    },
    {
     "data": {
      "image/png": "[encoded data removed]",
      "text/plain": [
       "<Figure size 432x288 with 1 Axes>"
      ]
     },
     "metadata": {
      "needs_background": "light"
     },
     "output_type": "display_data"
    },
    {
     "name": "stderr",
     "output_type": "stream",
     "text": [
      "C:\\Users\\PC\\AppData\\Local\\Temp\\ipykernel_1152\\2841500642.py:23: UserWarning: color is redundantly defined by the 'color' keyword argument and the fmt string \"bo\" (-> color='b'). The keyword argument will take precedence.\n",
      "  plt.plot(epochs, acc, 'bo', label='Training acc', color='grey')\n",
      "C:\\Users\\PC\\AppData\\Local\\Temp\\ipykernel_1152\\2841500642.py:24: UserWarning: color is redundantly defined by the 'color' keyword argument and the fmt string \"b\" (-> color=(0.0, 0.0, 1.0, 1)). The keyword argument will take precedence.\n",
      "  plt.plot(epochs, val_acc, 'b', label='Validation acc', color='purple')\n"
     ]
    },
    {
     "data": {
      "image/png": "[encoded data removed]",
      "text/plain": [
       "<Figure size 432x288 with 1 Axes>"
      ]
     },
     "metadata": {
      "needs_background": "light"
     },
     "output_type": "display_data"
    }
   ],
   "source": [
    "import matplotlib.pyplot as plt\n",
    "\n",
    "\n",
    "loss=history.history['loss']\n",
    "val_loss=history.history['val_loss']\n",
    "\n",
    "epochs=range(1, len(loss)+1)\n",
    "\n",
    "plt.plot(epochs, loss, 'bo', label='Training loss', color='red')\n",
    "plt.plot(epochs, val_loss, 'b', label='Validation loss', color='blue')\n",
    "plt.title('Training and validation loss')\n",
    "plt.xlabel('Epochs')\n",
    "plt.ylabel('Loss')\n",
    "plt.grid()\n",
    "plt.legend()\n",
    "plt.show()\n",
    "\n",
    "plt.clf()\n",
    "\n",
    "acc=history.history['accuracy']\n",
    "val_acc=history.history['val_accuracy']\n",
    "\n",
    "plt.plot(epochs, acc, 'bo', label='Training acc', color='grey')\n",
    "plt.plot(epochs, val_acc, 'b', label='Validation acc', color='purple')\n",
    "plt.title('Training and validation accuracy')\n",
    "plt.xlabel('Epochs')\n",
    "plt.ylabel('Accuracy')\n",
    "plt.grid()\n",
    "plt.legend()\n",
    "plt.show()"
   ]
  },
  {
   "cell_type": "code",
   "execution_count": 20,
   "metadata": {},
   "outputs": [
    {
     "name": "stdout",
     "output_type": "stream",
     "text": [
      "Epoch 1/8\n",
      "16/16 [==============================] - 1s 37ms/step - loss: 3.4179 - accuracy: 0.1501 - val_loss: 2.6540 - val_accuracy: 0.5990\n",
      "Epoch 2/8\n",
      "16/16 [==============================] - 0s 27ms/step - loss: 2.0890 - accuracy: 0.5874 - val_loss: 1.6605 - val_accuracy: 0.6070\n",
      "Epoch 3/8\n",
      "16/16 [==============================] - 0s 26ms/step - loss: 1.4752 - accuracy: 0.6756 - val_loss: 1.4326 - val_accuracy: 0.6790\n",
      "Epoch 4/8\n",
      "16/16 [==============================] - 0s 27ms/step - loss: 1.1900 - accuracy: 0.7389 - val_loss: 1.2717 - val_accuracy: 0.7230\n",
      "Epoch 5/8\n",
      "16/16 [==============================] - 0s 26ms/step - loss: 0.9375 - accuracy: 0.7929 - val_loss: 1.1589 - val_accuracy: 0.7500\n",
      "Epoch 6/8\n",
      "16/16 [==============================] - 0s 27ms/step - loss: 0.7174 - accuracy: 0.8344 - val_loss: 1.0820 - val_accuracy: 0.7720\n",
      "Epoch 7/8\n",
      "16/16 [==============================] - 0s 26ms/step - loss: 0.5378 - accuracy: 0.8738 - val_loss: 1.0579 - val_accuracy: 0.7840\n",
      "Epoch 8/8\n",
      "16/16 [==============================] - 0s 25ms/step - loss: 0.3993 - accuracy: 0.9142 - val_loss: 1.0890 - val_accuracy: 0.7830\n",
      "71/71 [==============================] - 0s 3ms/step - loss: 1.1668 - accuracy: 0.7654\n"
     ]
    },
    {
     "data": {
      "text/plain": [
       "[1.1668490171432495, 0.7653606534004211]"
      ]
     },
     "execution_count": 20,
     "metadata": {},
     "output_type": "execute_result"
    }
   ],
   "source": [
    "model=models.Sequential()\n",
    "model.add(layers.Dense(64, activation='relu', input_shape=(10000, )))\n",
    "model.add(layers.Dense(64, activation='relu'))\n",
    "model.add(layers.Dense(64, activation='relu'))\n",
    "model.add(layers.Dense(64, activation='relu'))\n",
    "model.add(layers.Dense(46, activation='softmax'))\n",
    "\n",
    "model.compile(optimizer='adam', loss='categorical_crossentropy', metrics=['accuracy'])\n",
    "model.fit(partial_x_train, partial_y_train, epochs=8, batch_size=512, validation_data=(x_val, y_val))\n",
    "\n",
    "results=model.evaluate(x_test, one_hot_test_labels)\n",
    "\n",
    "results"
   ]
  }
 ],
 "metadata": {
  "kernelspec": {
   "display_name": "Python 3.9.10 64-bit",
   "language": "python",
   "name": "python3"
  },
  "language_info": {
   "codemirror_mode": {
    "name": "ipython",
    "version": 3
   },
   "file_extension": ".py",
   "mimetype": "text/x-python",
   "name": "python",
   "nbconvert_exporter": "python",
   "pygments_lexer": "ipython3",
   "version": "3.9.10"
  },
  "orig_nbformat": 4,
  "vscode": {
   "interpreter": {
    "hash": "81794d4967e6c3204c66dcd87b604927b115b27c00565d3d43f05ba2f3a2cb0d"
   }
  }
 },
 "nbformat": 4,
 "nbformat_minor": 2
}
